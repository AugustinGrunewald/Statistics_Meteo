{
 "cells": [
  {
   "cell_type": "markdown",
   "id": "94e0355b",
   "metadata": {},
   "source": [
    "## WEATHER STATISTICS PROJECT\n",
    "##### MEMBERS : ESPINOUX Jules, FALCOZ Nils, GRUNEWALD Augustin, PICQ Florian"
   ]
  },
  {
   "cell_type": "code",
   "execution_count": null,
   "id": "be44d98d",
   "metadata": {
    "vscode": {
     "languageId": "r"
    }
   },
   "outputs": [],
   "source": []
  }
 ],
 "metadata": {
  "kernelspec": {
   "display_name": "R",
   "language": "R",
   "name": "ir"
  },
  "language_info": {
   "name": "R"
  }
 },
 "nbformat": 4,
 "nbformat_minor": 5
}
