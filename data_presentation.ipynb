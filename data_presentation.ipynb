{
  "cells": [
    {
      "cell_type": "markdown",
      "metadata": {},
      "source": [
        "# METEOROLOGICAL DATA PRESENTATION\n",
        "## Numerical and Graphical Summaries\n",
        "\n",
        "This notebook presents a comprehensive exploratory analysis of the meteorological dataset with detailed numerical and graphical summaries.\n"
      ]
    },
    {
      "cell_type": "markdown",
      "metadata": {},
      "source": [
        "### 1. DATASET INTRODUCTION\n",
        "\n",
        "In this section, we will study the dataset, the different categories, the size of the dataset, etc.\n"
      ]
    },
    {
      "cell_type": "code",
      "execution_count": 2,
      "metadata": {
        "vscode": {
          "languageId": "r"
        }
      },
      "outputs": [],
      "source": [
        "# Data loading\n",
        "data_weather <- read.table(\"data/donnees-synop-essentielles-omm.csv\",\n",
        "                        header=TRUE,\n",
        "                        sep=\";\",\n",
        "                        quote = \"\\\"\") # treats text between \"...\" as a single field, even if it contains ;\n"
      ]
    },
    {
      "cell_type": "code",
      "execution_count": 3,
      "metadata": {
        "vscode": {
          "languageId": "r"
        }
      },
      "outputs": [
        {
          "data": {
            "text/html": [
              "<table class=\"dataframe\">\n",
              "<caption>A data.frame: 6 × 82</caption>\n",
              "<thead>\n",
              "\t<tr><th></th><th scope=col>ID.OMM.station</th><th scope=col>Date</th><th scope=col>Pression.au.niveau.mer</th><th scope=col>Variation.de.pression.en.3.heures</th><th scope=col>Type.de.tendance.barométrique</th><th scope=col>Direction.du.vent.moyen.10.mn</th><th scope=col>Vitesse.du.vent.moyen.10.mn</th><th scope=col>Température</th><th scope=col>Point.de.rosée</th><th scope=col>Humidité</th><th scope=col>⋯</th><th scope=col>Altitude</th><th scope=col>communes..name.</th><th scope=col>communes..code.</th><th scope=col>EPCI..name.</th><th scope=col>EPCI..code.</th><th scope=col>department..name.</th><th scope=col>department..code.</th><th scope=col>region..name.</th><th scope=col>region..code.</th><th scope=col>mois_de_l_annee</th></tr>\n",
              "\t<tr><th></th><th scope=col>&lt;int&gt;</th><th scope=col>&lt;chr&gt;</th><th scope=col>&lt;int&gt;</th><th scope=col>&lt;dbl&gt;</th><th scope=col>&lt;int&gt;</th><th scope=col>&lt;int&gt;</th><th scope=col>&lt;dbl&gt;</th><th scope=col>&lt;dbl&gt;</th><th scope=col>&lt;dbl&gt;</th><th scope=col>&lt;int&gt;</th><th scope=col>⋯</th><th scope=col>&lt;int&gt;</th><th scope=col>&lt;chr&gt;</th><th scope=col>&lt;chr&gt;</th><th scope=col>&lt;chr&gt;</th><th scope=col>&lt;int&gt;</th><th scope=col>&lt;chr&gt;</th><th scope=col>&lt;chr&gt;</th><th scope=col>&lt;chr&gt;</th><th scope=col>&lt;int&gt;</th><th scope=col>&lt;int&gt;</th></tr>\n",
              "</thead>\n",
              "<tbody>\n",
              "\t<tr><th scope=row>1</th><td> 7181</td><td>2016-07-12T11:00:00+02:00</td><td>101410</td><td> -30</td><td> 8</td><td>230</td><td> 2.9</td><td>293.35</td><td>286.55</td><td>65</td><td>⋯</td><td>336</td><td>Thuilley-aux-Groseilles</td><td>54523</td><td>CC du Pays de Colombey et du Sud Toulois</td><td>245400510</td><td>Meurthe-et-Moselle</td><td>54 </td><td>Grand Est              </td><td>44</td><td> 7</td></tr>\n",
              "\t<tr><th scope=row>2</th><td>81405</td><td>2017-01-08T07:00:00+01:00</td><td>101140</td><td>-140</td><td> 8</td><td>240</td><td> 0.5</td><td>297.25</td><td>296.25</td><td>94</td><td>⋯</td><td>  4</td><td>Matoury                </td><td>97307</td><td>CA du Centre Littoral                   </td><td>249730045</td><td>Guyane            </td><td>973</td><td>Guyane                 </td><td> 3</td><td> 1</td></tr>\n",
              "\t<tr><th scope=row>3</th><td> 7627</td><td>2017-01-08T13:00:00+01:00</td><td>103380</td><td> -40</td><td> 8</td><td> 30</td><td> 2.1</td><td>277.55</td><td>269.75</td><td>57</td><td>⋯</td><td>414</td><td>Lorp-Sentaraille       </td><td>09289</td><td>CC Couserans-Pyrénées                   </td><td>200067940</td><td>Ariège            </td><td>09 </td><td>Occitanie              </td><td>76</td><td> 1</td></tr>\n",
              "\t<tr><th scope=row>4</th><td>78894</td><td>2017-01-09T13:00:00+01:00</td><td>101760</td><td>   0</td><td>NA</td><td>100</td><td> 2.3</td><td>298.15</td><td>291.35</td><td>66</td><td>⋯</td><td> 44</td><td>                       </td><td>     </td><td>                                        </td><td>       NA</td><td>                  </td><td>   </td><td>                       </td><td>NA</td><td> 1</td></tr>\n",
              "\t<tr><th scope=row>5</th><td> 7020</td><td>2017-01-12T13:00:00+01:00</td><td>100580</td><td>-710</td><td> 8</td><td>210</td><td>11.9</td><td>282.05</td><td>280.15</td><td>88</td><td>⋯</td><td>  6</td><td>La Hague               </td><td>50041</td><td>CA du Cotentin                          </td><td>200067205</td><td>Manche            </td><td>50 </td><td>Normandie              </td><td>28</td><td> 1</td></tr>\n",
              "\t<tr><th scope=row>6</th><td> 7280</td><td>2017-12-23T13:00:00+01:00</td><td>103830</td><td> -10</td><td> 0</td><td> 10</td><td> 2.7</td><td>280.75</td><td>278.35</td><td>85</td><td>⋯</td><td>219</td><td>Ouges                  </td><td>21473</td><td>Dijon Métropole                         </td><td>242100410</td><td>Côte-d'Or         </td><td>21 </td><td>Bourgogne-Franche-Comté</td><td>27</td><td>12</td></tr>\n",
              "</tbody>\n",
              "</table>\n"
            ],
            "text/latex": [
              "A data.frame: 6 × 82\n",
              "\\begin{tabular}{r|lllllllllllllllllllll}\n",
              "  & ID.OMM.station & Date & Pression.au.niveau.mer & Variation.de.pression.en.3.heures & Type.de.tendance.barométrique & Direction.du.vent.moyen.10.mn & Vitesse.du.vent.moyen.10.mn & Température & Point.de.rosée & Humidité & ⋯ & Altitude & communes..name. & communes..code. & EPCI..name. & EPCI..code. & department..name. & department..code. & region..name. & region..code. & mois\\_de\\_l\\_annee\\\\\n",
              "  & <int> & <chr> & <int> & <dbl> & <int> & <int> & <dbl> & <dbl> & <dbl> & <int> & ⋯ & <int> & <chr> & <chr> & <chr> & <int> & <chr> & <chr> & <chr> & <int> & <int>\\\\\n",
              "\\hline\n",
              "\t1 &  7181 & 2016-07-12T11:00:00+02:00 & 101410 &  -30 &  8 & 230 &  2.9 & 293.35 & 286.55 & 65 & ⋯ & 336 & Thuilley-aux-Groseilles & 54523 & CC du Pays de Colombey et du Sud Toulois & 245400510 & Meurthe-et-Moselle & 54  & Grand Est               & 44 &  7\\\\\n",
              "\t2 & 81405 & 2017-01-08T07:00:00+01:00 & 101140 & -140 &  8 & 240 &  0.5 & 297.25 & 296.25 & 94 & ⋯ &   4 & Matoury                 & 97307 & CA du Centre Littoral                    & 249730045 & Guyane             & 973 & Guyane                  &  3 &  1\\\\\n",
              "\t3 &  7627 & 2017-01-08T13:00:00+01:00 & 103380 &  -40 &  8 &  30 &  2.1 & 277.55 & 269.75 & 57 & ⋯ & 414 & Lorp-Sentaraille        & 09289 & CC Couserans-Pyrénées                    & 200067940 & Ariège             & 09  & Occitanie               & 76 &  1\\\\\n",
              "\t4 & 78894 & 2017-01-09T13:00:00+01:00 & 101760 &    0 & NA & 100 &  2.3 & 298.15 & 291.35 & 66 & ⋯ &  44 &                         &       &                                          &        NA &                    &     &                         & NA &  1\\\\\n",
              "\t5 &  7020 & 2017-01-12T13:00:00+01:00 & 100580 & -710 &  8 & 210 & 11.9 & 282.05 & 280.15 & 88 & ⋯ &   6 & La Hague                & 50041 & CA du Cotentin                           & 200067205 & Manche             & 50  & Normandie               & 28 &  1\\\\\n",
              "\t6 &  7280 & 2017-12-23T13:00:00+01:00 & 103830 &  -10 &  0 &  10 &  2.7 & 280.75 & 278.35 & 85 & ⋯ & 219 & Ouges                   & 21473 & Dijon Métropole                          & 242100410 & Côte-d'Or          & 21  & Bourgogne-Franche-Comté & 27 & 12\\\\\n",
              "\\end{tabular}\n"
            ],
            "text/markdown": [
              "\n",
              "A data.frame: 6 × 82\n",
              "\n",
              "| <!--/--> | ID.OMM.station &lt;int&gt; | Date &lt;chr&gt; | Pression.au.niveau.mer &lt;int&gt; | Variation.de.pression.en.3.heures &lt;dbl&gt; | Type.de.tendance.barométrique &lt;int&gt; | Direction.du.vent.moyen.10.mn &lt;int&gt; | Vitesse.du.vent.moyen.10.mn &lt;dbl&gt; | Température &lt;dbl&gt; | Point.de.rosée &lt;dbl&gt; | Humidité &lt;int&gt; | ⋯ ⋯ | Altitude &lt;int&gt; | communes..name. &lt;chr&gt; | communes..code. &lt;chr&gt; | EPCI..name. &lt;chr&gt; | EPCI..code. &lt;int&gt; | department..name. &lt;chr&gt; | department..code. &lt;chr&gt; | region..name. &lt;chr&gt; | region..code. &lt;int&gt; | mois_de_l_annee &lt;int&gt; |\n",
              "|---|---|---|---|---|---|---|---|---|---|---|---|---|---|---|---|---|---|---|---|---|---|\n",
              "| 1 |  7181 | 2016-07-12T11:00:00+02:00 | 101410 |  -30 |  8 | 230 |  2.9 | 293.35 | 286.55 | 65 | ⋯ | 336 | Thuilley-aux-Groseilles | 54523 | CC du Pays de Colombey et du Sud Toulois | 245400510 | Meurthe-et-Moselle | 54  | Grand Est               | 44 |  7 |\n",
              "| 2 | 81405 | 2017-01-08T07:00:00+01:00 | 101140 | -140 |  8 | 240 |  0.5 | 297.25 | 296.25 | 94 | ⋯ |   4 | Matoury                 | 97307 | CA du Centre Littoral                    | 249730045 | Guyane             | 973 | Guyane                  |  3 |  1 |\n",
              "| 3 |  7627 | 2017-01-08T13:00:00+01:00 | 103380 |  -40 |  8 |  30 |  2.1 | 277.55 | 269.75 | 57 | ⋯ | 414 | Lorp-Sentaraille        | 09289 | CC Couserans-Pyrénées                    | 200067940 | Ariège             | 09  | Occitanie               | 76 |  1 |\n",
              "| 4 | 78894 | 2017-01-09T13:00:00+01:00 | 101760 |    0 | NA | 100 |  2.3 | 298.15 | 291.35 | 66 | ⋯ |  44 | <!----> | <!----> | <!----> |        NA | <!----> | <!----> | <!----> | NA |  1 |\n",
              "| 5 |  7020 | 2017-01-12T13:00:00+01:00 | 100580 | -710 |  8 | 210 | 11.9 | 282.05 | 280.15 | 88 | ⋯ |   6 | La Hague                | 50041 | CA du Cotentin                           | 200067205 | Manche             | 50  | Normandie               | 28 |  1 |\n",
              "| 6 |  7280 | 2017-12-23T13:00:00+01:00 | 103830 |  -10 |  0 |  10 |  2.7 | 280.75 | 278.35 | 85 | ⋯ | 219 | Ouges                   | 21473 | Dijon Métropole                          | 242100410 | Côte-d'Or          | 21  | Bourgogne-Franche-Comté | 27 | 12 |\n",
              "\n"
            ],
            "text/plain": [
              "  ID.OMM.station Date                      Pression.au.niveau.mer\n",
              "1  7181          2016-07-12T11:00:00+02:00 101410                \n",
              "2 81405          2017-01-08T07:00:00+01:00 101140                \n",
              "3  7627          2017-01-08T13:00:00+01:00 103380                \n",
              "4 78894          2017-01-09T13:00:00+01:00 101760                \n",
              "5  7020          2017-01-12T13:00:00+01:00 100580                \n",
              "6  7280          2017-12-23T13:00:00+01:00 103830                \n",
              "  Variation.de.pression.en.3.heures Type.de.tendance.barométrique\n",
              "1  -30                               8                           \n",
              "2 -140                               8                           \n",
              "3  -40                               8                           \n",
              "4    0                              NA                           \n",
              "5 -710                               8                           \n",
              "6  -10                               0                           \n",
              "  Direction.du.vent.moyen.10.mn Vitesse.du.vent.moyen.10.mn Température\n",
              "1 230                            2.9                        293.35     \n",
              "2 240                            0.5                        297.25     \n",
              "3  30                            2.1                        277.55     \n",
              "4 100                            2.3                        298.15     \n",
              "5 210                           11.9                        282.05     \n",
              "6  10                            2.7                        280.75     \n",
              "  Point.de.rosée Humidité ⋯ Altitude communes..name.         communes..code.\n",
              "1 286.55         65       ⋯ 336      Thuilley-aux-Groseilles 54523          \n",
              "2 296.25         94       ⋯   4      Matoury                 97307          \n",
              "3 269.75         57       ⋯ 414      Lorp-Sentaraille        09289          \n",
              "4 291.35         66       ⋯  44                                             \n",
              "5 280.15         88       ⋯   6      La Hague                50041          \n",
              "6 278.35         85       ⋯ 219      Ouges                   21473          \n",
              "  EPCI..name.                              EPCI..code. department..name. \n",
              "1 CC du Pays de Colombey et du Sud Toulois 245400510   Meurthe-et-Moselle\n",
              "2 CA du Centre Littoral                    249730045   Guyane            \n",
              "3 CC Couserans-Pyrénées                    200067940   Ariège            \n",
              "4                                                 NA                     \n",
              "5 CA du Cotentin                           200067205   Manche            \n",
              "6 Dijon Métropole                          242100410   Côte-d'Or         \n",
              "  department..code. region..name.           region..code. mois_de_l_annee\n",
              "1 54                Grand Est               44             7             \n",
              "2 973               Guyane                   3             1             \n",
              "3 09                Occitanie               76             1             \n",
              "4                                           NA             1             \n",
              "5 50                Normandie               28             1             \n",
              "6 21                Bourgogne-Franche-Comté 27            12             "
            ]
          },
          "metadata": {},
          "output_type": "display_data"
        },
        {
          "data": {
            "text/html": [
              "<style>\n",
              ".list-inline {list-style: none; margin:0; padding: 0}\n",
              ".list-inline>li {display: inline-block}\n",
              ".list-inline>li:not(:last-child)::after {content: \"\\00b7\"; padding: 0 .5ex}\n",
              "</style>\n",
              "<ol class=list-inline><li>1719567</li><li>82</li></ol>\n"
            ],
            "text/latex": [
              "\\begin{enumerate*}\n",
              "\\item 1719567\n",
              "\\item 82\n",
              "\\end{enumerate*}\n"
            ],
            "text/markdown": [
              "1. 1719567\n",
              "2. 82\n",
              "\n",
              "\n"
            ],
            "text/plain": [
              "[1] 1719567      82"
            ]
          },
          "metadata": {},
          "output_type": "display_data"
        }
      ],
      "source": [
        "# General dataset overview\n",
        "head(data_weather)\n",
        "dim(data_weather)\n",
        "# summary(data_weather) J'enlève pour éviter d'afficher trop d'information"
      ]
    },
    {
      "cell_type": "markdown",
      "metadata": {},
      "source": [
        "**Main observations:**\n",
        "- Large dataset size: dataframe with 82 variables and 1,719,567 observations\n"
      ]
    },
    {
      "cell_type": "code",
      "execution_count": 4,
      "metadata": {
        "vscode": {
          "languageId": "r"
        }
      },
      "outputs": [
        {
          "name": "stdout",
          "output_type": "stream",
          "text": [
            "   index                                                      name\n",
            "1      1                                            ID.OMM.station\n",
            "2      2                                                      Date\n",
            "3      3                                    Pression.au.niveau.mer\n",
            "4      4                         Variation.de.pression.en.3.heures\n",
            "5      5                             Type.de.tendance.barométrique\n",
            "6      6                             Direction.du.vent.moyen.10.mn\n",
            "7      7                               Vitesse.du.vent.moyen.10.mn\n",
            "8      8                                               Température\n",
            "9      9                                            Point.de.rosée\n",
            "10    10                                                  Humidité\n",
            "11    11                                    Visibilité.horizontale\n",
            "12    12                                             Temps.présent\n",
            "13    13                                             Temps.passé.1\n",
            "14    14                                             Temps.passé.2\n",
            "15    15                                         Nebulosité.totale\n",
            "16    16              Nébulosité..des.nuages.de.l..étage.inférieur\n",
            "17    17        Hauteur.de.la.base.des.nuages.de.l.étage.inférieur\n",
            "18    18                      Type.des.nuages.de.l.étage.inférieur\n",
            "19    19                          Type.des.nuages.de.l.étage.moyen\n",
            "20    20                      Type.des.nuages.de.l.étage.supérieur\n",
            "21    21                                          Pression.station\n",
            "22    22                                       Niveau.barométrique\n",
            "23    23                                              Géopotentiel\n",
            "24    24                        Variation.de.pression.en.24.heures\n",
            "25    25                        Température.minimale.sur.12.heures\n",
            "26    26                        Température.minimale.sur.24.heures\n",
            "27    27                        Température.maximale.sur.12.heures\n",
            "28    28                        Température.maximale.sur.24.heures\n",
            "29    29                 Température.minimale.du.sol.sur.12.heures\n",
            "30    30      Méthode.de.mesure.Température.du.thermomètre.mouillé\n",
            "31    31                        Température.du.thermomètre.mouillé\n",
            "32    32                       Rafale.sur.les.10.dernières.minutes\n",
            "33    33                                   Rafales.sur.une.période\n",
            "34    34                            Periode.de.mesure.de.la.rafale\n",
            "35    35                                               Etat.du.sol\n",
            "36    36 Hauteur.totale.de.la.couche.de.neige..glace..autre.au.sol\n",
            "37    37                               Hauteur.de.la.neige.fraîche\n",
            "38    38                     Periode.de.mesure.de.la.neige.fraiche\n",
            "39    39                     Précipitations.dans.la.dernière.heure\n",
            "40    40                Précipitations.dans.les.3.dernières.heures\n",
            "41    41                Précipitations.dans.les.6.dernières.heures\n",
            "42    42               Précipitations.dans.les.12.dernières.heures\n",
            "43    43               Précipitations.dans.les.24.dernières.heures\n",
            "44    44                                       Phénomène.spécial.1\n",
            "45    45                                       Phénomène.spécial.2\n",
            "46    46                                       Phénomène.spécial.3\n",
            "47    47                                       Phénomène.spécial.4\n",
            "48    48                              Nébulosité.couche.nuageuse.1\n",
            "49    49                                              Type.nuage.1\n",
            "50    50                                         Hauteur.de.base.1\n",
            "51    51                              Nébulosité.couche.nuageuse.2\n",
            "52    52                                              Type.nuage.2\n",
            "53    53                                         Hauteur.de.base.2\n",
            "54    54                              Nébulosité.couche.nuageuse.3\n",
            "55    55                                              Type.nuage.3\n",
            "56    56                                         Hauteur.de.base.3\n",
            "57    57                              Nébulosité.couche.nuageuse.4\n",
            "58    58                                              Type.nuage.4\n",
            "59    59                                         Hauteur.de.base.4\n",
            "60    60                                               Coordonnees\n",
            "61    61                                                       Nom\n",
            "62    62                           Type.de.tendance.barométrique.1\n",
            "63    63                                           Temps.passé.1.1\n",
            "64    64                                           Temps.présent.1\n",
            "65    65                                          Température...C.\n",
            "66    66                   Température.minimale.sur.12.heures...C.\n",
            "67    67                   Température.minimale.sur.24.heures...C.\n",
            "68    68                   Température.maximale.sur.12.heures...C.\n",
            "69    69                   Température.maximale.sur.24.heures...C.\n",
            "70    70         Température.minimale.du.sol.sur.12.heures..en..C.\n",
            "71    71                                                  Latitude\n",
            "72    72                                                 Longitude\n",
            "73    73                                                  Altitude\n",
            "74    74                                           communes..name.\n",
            "75    75                                           communes..code.\n",
            "76    76                                               EPCI..name.\n",
            "77    77                                               EPCI..code.\n",
            "78    78                                         department..name.\n",
            "79    79                                         department..code.\n",
            "80    80                                             region..name.\n",
            "81    81                                             region..code.\n",
            "82    82                                           mois_de_l_annee\n"
          ]
        }
      ],
      "source": [
        "# Display of variable labels\n",
        "names_df <- data.frame(\n",
        "    index = seq_along(colnames(data_weather)),\n",
        "    name = colnames(data_weather)\n",
        ")\n",
        "print(names_df)"
      ]
    },
    {
      "cell_type": "markdown",
      "metadata": {},
      "source": [
        "**Variable description:**\n",
        "We have various variables providing a lot of information about the weather at a given station.\n"
      ]
    },
    {
      "cell_type": "markdown",
      "metadata": {},
      "source": [
        "### 2. EXTRACTION OF SIMILAR DATA GROUPS\n",
        "\n",
        "Extraction of data related to temperature, pressure, wind, precipitation, snow.\n"
      ]
    },
    {
      "cell_type": "code",
      "execution_count": 5,
      "metadata": {
        "vscode": {
          "languageId": "r"
        }
      },
      "outputs": [
        {
          "data": {
            "text/html": [
              "<table class=\"dataframe\">\n",
              "<caption>A data.frame: 6 × 8</caption>\n",
              "<thead>\n",
              "\t<tr><th></th><th scope=col>ID.OMM.station</th><th scope=col>Date</th><th scope=col>Température</th><th scope=col>Température.minimale.sur.12.heures</th><th scope=col>Température.minimale.sur.24.heures</th><th scope=col>Température.maximale.sur.12.heures</th><th scope=col>Température.maximale.sur.24.heures</th><th scope=col>Température.minimale.du.sol.sur.12.heures</th></tr>\n",
              "\t<tr><th></th><th scope=col>&lt;int&gt;</th><th scope=col>&lt;chr&gt;</th><th scope=col>&lt;dbl&gt;</th><th scope=col>&lt;dbl&gt;</th><th scope=col>&lt;dbl&gt;</th><th scope=col>&lt;dbl&gt;</th><th scope=col>&lt;dbl&gt;</th><th scope=col>&lt;dbl&gt;</th></tr>\n",
              "</thead>\n",
              "<tbody>\n",
              "\t<tr><th scope=row>1</th><td> 7790</td><td>2015-08-04T02:00:00+02:00</td><td>294.85</td><td>NA</td><td>NA</td><td>NA</td><td>NA</td><td>    NA</td></tr>\n",
              "\t<tr><th scope=row>2</th><td> 7761</td><td>2015-08-04T02:00:00+02:00</td><td>295.15</td><td>NA</td><td>NA</td><td>NA</td><td>NA</td><td>    NA</td></tr>\n",
              "\t<tr><th scope=row>3</th><td> 7020</td><td>2015-08-04T02:00:00+02:00</td><td>288.85</td><td>NA</td><td>NA</td><td>NA</td><td>NA</td><td>    NA</td></tr>\n",
              "\t<tr><th scope=row>4</th><td> 7240</td><td>2015-08-04T02:00:00+02:00</td><td>292.85</td><td>NA</td><td>NA</td><td>NA</td><td>NA</td><td>291.55</td></tr>\n",
              "\t<tr><th scope=row>5</th><td>81415</td><td>2015-08-04T02:00:00+02:00</td><td>297.55</td><td>NA</td><td>NA</td><td>NA</td><td>NA</td><td>    NA</td></tr>\n",
              "\t<tr><th scope=row>6</th><td> 7110</td><td>2015-08-04T02:00:00+02:00</td><td>286.35</td><td>NA</td><td>NA</td><td>NA</td><td>NA</td><td>282.85</td></tr>\n",
              "</tbody>\n",
              "</table>\n"
            ],
            "text/latex": [
              "A data.frame: 6 × 8\n",
              "\\begin{tabular}{r|llllllll}\n",
              "  & ID.OMM.station & Date & Température & Température.minimale.sur.12.heures & Température.minimale.sur.24.heures & Température.maximale.sur.12.heures & Température.maximale.sur.24.heures & Température.minimale.du.sol.sur.12.heures\\\\\n",
              "  & <int> & <chr> & <dbl> & <dbl> & <dbl> & <dbl> & <dbl> & <dbl>\\\\\n",
              "\\hline\n",
              "\t1 &  7790 & 2015-08-04T02:00:00+02:00 & 294.85 & NA & NA & NA & NA &     NA\\\\\n",
              "\t2 &  7761 & 2015-08-04T02:00:00+02:00 & 295.15 & NA & NA & NA & NA &     NA\\\\\n",
              "\t3 &  7020 & 2015-08-04T02:00:00+02:00 & 288.85 & NA & NA & NA & NA &     NA\\\\\n",
              "\t4 &  7240 & 2015-08-04T02:00:00+02:00 & 292.85 & NA & NA & NA & NA & 291.55\\\\\n",
              "\t5 & 81415 & 2015-08-04T02:00:00+02:00 & 297.55 & NA & NA & NA & NA &     NA\\\\\n",
              "\t6 &  7110 & 2015-08-04T02:00:00+02:00 & 286.35 & NA & NA & NA & NA & 282.85\\\\\n",
              "\\end{tabular}\n"
            ],
            "text/markdown": [
              "\n",
              "A data.frame: 6 × 8\n",
              "\n",
              "| <!--/--> | ID.OMM.station &lt;int&gt; | Date &lt;chr&gt; | Température &lt;dbl&gt; | Température.minimale.sur.12.heures &lt;dbl&gt; | Température.minimale.sur.24.heures &lt;dbl&gt; | Température.maximale.sur.12.heures &lt;dbl&gt; | Température.maximale.sur.24.heures &lt;dbl&gt; | Température.minimale.du.sol.sur.12.heures &lt;dbl&gt; |\n",
              "|---|---|---|---|---|---|---|---|---|\n",
              "| 1 |  7790 | 2015-08-04T02:00:00+02:00 | 294.85 | NA | NA | NA | NA |     NA |\n",
              "| 2 |  7761 | 2015-08-04T02:00:00+02:00 | 295.15 | NA | NA | NA | NA |     NA |\n",
              "| 3 |  7020 | 2015-08-04T02:00:00+02:00 | 288.85 | NA | NA | NA | NA |     NA |\n",
              "| 4 |  7240 | 2015-08-04T02:00:00+02:00 | 292.85 | NA | NA | NA | NA | 291.55 |\n",
              "| 5 | 81415 | 2015-08-04T02:00:00+02:00 | 297.55 | NA | NA | NA | NA |     NA |\n",
              "| 6 |  7110 | 2015-08-04T02:00:00+02:00 | 286.35 | NA | NA | NA | NA | 282.85 |\n",
              "\n"
            ],
            "text/plain": [
              "  ID.OMM.station Date                      Température\n",
              "1  7790          2015-08-04T02:00:00+02:00 294.85     \n",
              "2  7761          2015-08-04T02:00:00+02:00 295.15     \n",
              "3  7020          2015-08-04T02:00:00+02:00 288.85     \n",
              "4  7240          2015-08-04T02:00:00+02:00 292.85     \n",
              "5 81415          2015-08-04T02:00:00+02:00 297.55     \n",
              "6  7110          2015-08-04T02:00:00+02:00 286.35     \n",
              "  Température.minimale.sur.12.heures Température.minimale.sur.24.heures\n",
              "1 NA                                 NA                                \n",
              "2 NA                                 NA                                \n",
              "3 NA                                 NA                                \n",
              "4 NA                                 NA                                \n",
              "5 NA                                 NA                                \n",
              "6 NA                                 NA                                \n",
              "  Température.maximale.sur.12.heures Température.maximale.sur.24.heures\n",
              "1 NA                                 NA                                \n",
              "2 NA                                 NA                                \n",
              "3 NA                                 NA                                \n",
              "4 NA                                 NA                                \n",
              "5 NA                                 NA                                \n",
              "6 NA                                 NA                                \n",
              "  Température.minimale.du.sol.sur.12.heures\n",
              "1     NA                                   \n",
              "2     NA                                   \n",
              "3     NA                                   \n",
              "4 291.55                                   \n",
              "5     NA                                   \n",
              "6 282.85                                   "
            ]
          },
          "metadata": {},
          "output_type": "display_data"
        },
        {
          "data": {
            "text/html": [
              "<table class=\"dataframe\">\n",
              "<caption>A data.frame: 6 × 8</caption>\n",
              "<thead>\n",
              "\t<tr><th></th><th scope=col>ID.OMM.station</th><th scope=col>Date</th><th scope=col>Température...C.</th><th scope=col>Température.minimale.sur.12.heures...C.</th><th scope=col>Température.minimale.sur.24.heures...C.</th><th scope=col>Température.maximale.sur.12.heures...C.</th><th scope=col>Température.maximale.sur.24.heures...C.</th><th scope=col>Température.minimale.du.sol.sur.12.heures..en..C.</th></tr>\n",
              "\t<tr><th></th><th scope=col>&lt;int&gt;</th><th scope=col>&lt;chr&gt;</th><th scope=col>&lt;dbl&gt;</th><th scope=col>&lt;dbl&gt;</th><th scope=col>&lt;dbl&gt;</th><th scope=col>&lt;dbl&gt;</th><th scope=col>&lt;dbl&gt;</th><th scope=col>&lt;dbl&gt;</th></tr>\n",
              "</thead>\n",
              "<tbody>\n",
              "\t<tr><th scope=row>1</th><td> 7790</td><td>2015-08-04T02:00:00+02:00</td><td>21.7</td><td>NA</td><td>NA</td><td>NA</td><td>NA</td><td>  NA</td></tr>\n",
              "\t<tr><th scope=row>2</th><td> 7761</td><td>2015-08-04T02:00:00+02:00</td><td>22.0</td><td>NA</td><td>NA</td><td>NA</td><td>NA</td><td>  NA</td></tr>\n",
              "\t<tr><th scope=row>3</th><td> 7020</td><td>2015-08-04T02:00:00+02:00</td><td>15.7</td><td>NA</td><td>NA</td><td>NA</td><td>NA</td><td>  NA</td></tr>\n",
              "\t<tr><th scope=row>4</th><td> 7240</td><td>2015-08-04T02:00:00+02:00</td><td>19.7</td><td>NA</td><td>NA</td><td>NA</td><td>NA</td><td>18.4</td></tr>\n",
              "\t<tr><th scope=row>5</th><td>81415</td><td>2015-08-04T02:00:00+02:00</td><td>24.4</td><td>NA</td><td>NA</td><td>NA</td><td>NA</td><td>  NA</td></tr>\n",
              "\t<tr><th scope=row>6</th><td> 7110</td><td>2015-08-04T02:00:00+02:00</td><td>13.2</td><td>NA</td><td>NA</td><td>NA</td><td>NA</td><td> 9.7</td></tr>\n",
              "</tbody>\n",
              "</table>\n"
            ],
            "text/latex": [
              "A data.frame: 6 × 8\n",
              "\\begin{tabular}{r|llllllll}\n",
              "  & ID.OMM.station & Date & Température...C. & Température.minimale.sur.12.heures...C. & Température.minimale.sur.24.heures...C. & Température.maximale.sur.12.heures...C. & Température.maximale.sur.24.heures...C. & Température.minimale.du.sol.sur.12.heures..en..C.\\\\\n",
              "  & <int> & <chr> & <dbl> & <dbl> & <dbl> & <dbl> & <dbl> & <dbl>\\\\\n",
              "\\hline\n",
              "\t1 &  7790 & 2015-08-04T02:00:00+02:00 & 21.7 & NA & NA & NA & NA &   NA\\\\\n",
              "\t2 &  7761 & 2015-08-04T02:00:00+02:00 & 22.0 & NA & NA & NA & NA &   NA\\\\\n",
              "\t3 &  7020 & 2015-08-04T02:00:00+02:00 & 15.7 & NA & NA & NA & NA &   NA\\\\\n",
              "\t4 &  7240 & 2015-08-04T02:00:00+02:00 & 19.7 & NA & NA & NA & NA & 18.4\\\\\n",
              "\t5 & 81415 & 2015-08-04T02:00:00+02:00 & 24.4 & NA & NA & NA & NA &   NA\\\\\n",
              "\t6 &  7110 & 2015-08-04T02:00:00+02:00 & 13.2 & NA & NA & NA & NA &  9.7\\\\\n",
              "\\end{tabular}\n"
            ],
            "text/markdown": [
              "\n",
              "A data.frame: 6 × 8\n",
              "\n",
              "| <!--/--> | ID.OMM.station &lt;int&gt; | Date &lt;chr&gt; | Température...C. &lt;dbl&gt; | Température.minimale.sur.12.heures...C. &lt;dbl&gt; | Température.minimale.sur.24.heures...C. &lt;dbl&gt; | Température.maximale.sur.12.heures...C. &lt;dbl&gt; | Température.maximale.sur.24.heures...C. &lt;dbl&gt; | Température.minimale.du.sol.sur.12.heures..en..C. &lt;dbl&gt; |\n",
              "|---|---|---|---|---|---|---|---|---|\n",
              "| 1 |  7790 | 2015-08-04T02:00:00+02:00 | 21.7 | NA | NA | NA | NA |   NA |\n",
              "| 2 |  7761 | 2015-08-04T02:00:00+02:00 | 22.0 | NA | NA | NA | NA |   NA |\n",
              "| 3 |  7020 | 2015-08-04T02:00:00+02:00 | 15.7 | NA | NA | NA | NA |   NA |\n",
              "| 4 |  7240 | 2015-08-04T02:00:00+02:00 | 19.7 | NA | NA | NA | NA | 18.4 |\n",
              "| 5 | 81415 | 2015-08-04T02:00:00+02:00 | 24.4 | NA | NA | NA | NA |   NA |\n",
              "| 6 |  7110 | 2015-08-04T02:00:00+02:00 | 13.2 | NA | NA | NA | NA |  9.7 |\n",
              "\n"
            ],
            "text/plain": [
              "  ID.OMM.station Date                      Température...C.\n",
              "1  7790          2015-08-04T02:00:00+02:00 21.7            \n",
              "2  7761          2015-08-04T02:00:00+02:00 22.0            \n",
              "3  7020          2015-08-04T02:00:00+02:00 15.7            \n",
              "4  7240          2015-08-04T02:00:00+02:00 19.7            \n",
              "5 81415          2015-08-04T02:00:00+02:00 24.4            \n",
              "6  7110          2015-08-04T02:00:00+02:00 13.2            \n",
              "  Température.minimale.sur.12.heures...C.\n",
              "1 NA                                     \n",
              "2 NA                                     \n",
              "3 NA                                     \n",
              "4 NA                                     \n",
              "5 NA                                     \n",
              "6 NA                                     \n",
              "  Température.minimale.sur.24.heures...C.\n",
              "1 NA                                     \n",
              "2 NA                                     \n",
              "3 NA                                     \n",
              "4 NA                                     \n",
              "5 NA                                     \n",
              "6 NA                                     \n",
              "  Température.maximale.sur.12.heures...C.\n",
              "1 NA                                     \n",
              "2 NA                                     \n",
              "3 NA                                     \n",
              "4 NA                                     \n",
              "5 NA                                     \n",
              "6 NA                                     \n",
              "  Température.maximale.sur.24.heures...C.\n",
              "1 NA                                     \n",
              "2 NA                                     \n",
              "3 NA                                     \n",
              "4 NA                                     \n",
              "5 NA                                     \n",
              "6 NA                                     \n",
              "  Température.minimale.du.sol.sur.12.heures..en..C.\n",
              "1   NA                                             \n",
              "2   NA                                             \n",
              "3   NA                                             \n",
              "4 18.4                                             \n",
              "5   NA                                             \n",
              "6  9.7                                             "
            ]
          },
          "metadata": {},
          "output_type": "display_data"
        }
      ],
      "source": [
        "# Selection of temperature-related values (first in Kelvin, second in Celsius)\n",
        "temperature_data <- data_weather[,c(1:2, 8, 25:29)] \n",
        "temperature_data_C <- data_weather[,c(1:2, 65:70)] \n",
        "\n",
        "# Sort by ascending date\n",
        "temperature_data <- temperature_data[order(temperature_data$Date), ]\n",
        "temperature_data_C <- temperature_data_C[order(temperature_data_C$Date), ]\n",
        "\n",
        "# Reorganize the index\n",
        "rownames(temperature_data) <- NULL\n",
        "rownames(temperature_data_C) <- NULL\n",
        "head(temperature_data)\n",
        "head(temperature_data_C)\n"
      ]
    },
    {
      "cell_type": "code",
      "execution_count": 6,
      "metadata": {
        "vscode": {
          "languageId": "r"
        }
      },
      "outputs": [
        {
          "data": {
            "image/png": "[encoded data removed]",
            "text/plain": [
              "plot without title"
            ]
          },
          "metadata": {
            "image/png": {
              "height": 420,
              "width": 420
            }
          },
          "output_type": "display_data"
        }
      ],
      "source": [
        "# Visualization of missing data for temperature variables (with column numbers)\n",
        "library(visdat)\n",
        "library(ggplot2)\n",
        "col_numbers <- seq_along(colnames(temperature_data))\n",
        "colnames(temperature_data) <- as.character(col_numbers)\n",
        "vis_dat(\n",
        "  temperature_data, \n",
        "  warn_large_data = FALSE\n",
        ") +\n",
        "  ggplot2::theme(\n",
        "    axis.text.x = ggplot2::element_text(angle = 45, hjust = 1, size = 12),\n",
        "    axis.text.y = ggplot2::element_text(size = 12),\n",
        "    axis.title = ggplot2::element_text(size = 14),\n",
        "    plot.title = ggplot2::element_text(size = 16, face = \"bold\")\n",
        "  )"
      ]
    },
    {
      "cell_type": "markdown",
      "metadata": {},
      "source": [
        "**Correspondence between column number and variable name for `temperature_data`:**\n",
        "\n",
        "| Column Number | Variable Name |\n",
        "|---------------|---------------|\n",
        "| 1             | `ID.OMM.station` |\n",
        "| 2             | `Date`           |\n",
        "| 3             | `Température`    |\n",
        "| 4             | `Température.minimale.sur.12.heures` |\n",
        "| 5             | `Température.minimale.sur.24.heures` |\n",
        "| 6             | `Température.maximale.sur.12.heures` |\n",
        "| 7             | `Température.maximale.sur.24.heures` |\n"
      ]
    },
    {
      "cell_type": "code",
      "execution_count": 7,
      "metadata": {
        "vscode": {
          "languageId": "r"
        }
      },
      "outputs": [
        {
          "data": {
            "text/html": [
              "<table class=\"dataframe\">\n",
              "<caption>A data.frame: 6 × 7</caption>\n",
              "<thead>\n",
              "\t<tr><th></th><th scope=col>ID.OMM.station</th><th scope=col>Date</th><th scope=col>Pression.au.niveau.mer</th><th scope=col>Variation.de.pression.en.3.heures</th><th scope=col>Type.de.tendance.barométrique</th><th scope=col>Pression.station</th><th scope=col>Niveau.barométrique</th></tr>\n",
              "\t<tr><th></th><th scope=col>&lt;int&gt;</th><th scope=col>&lt;chr&gt;</th><th scope=col>&lt;int&gt;</th><th scope=col>&lt;dbl&gt;</th><th scope=col>&lt;int&gt;</th><th scope=col>&lt;dbl&gt;</th><th scope=col>&lt;dbl&gt;</th></tr>\n",
              "</thead>\n",
              "<tbody>\n",
              "\t<tr><th scope=row>1</th><td> 7790</td><td>2015-08-04T02:00:00+02:00</td><td>101570</td><td> 30</td><td>1</td><td>101430</td><td>NA</td></tr>\n",
              "\t<tr><th scope=row>2</th><td> 7761</td><td>2015-08-04T02:00:00+02:00</td><td>101600</td><td> 50</td><td>0</td><td>101500</td><td>NA</td></tr>\n",
              "\t<tr><th scope=row>3</th><td> 7020</td><td>2015-08-04T02:00:00+02:00</td><td>101390</td><td>-10</td><td>7</td><td>101130</td><td>NA</td></tr>\n",
              "\t<tr><th scope=row>4</th><td> 7240</td><td>2015-08-04T02:00:00+02:00</td><td>101410</td><td>130</td><td>3</td><td>100110</td><td>NA</td></tr>\n",
              "\t<tr><th scope=row>5</th><td>81415</td><td>2015-08-04T02:00:00+02:00</td><td>101370</td><td>270</td><td>3</td><td>100160</td><td>NA</td></tr>\n",
              "\t<tr><th scope=row>6</th><td> 7110</td><td>2015-08-04T02:00:00+02:00</td><td>101490</td><td> 40</td><td>1</td><td>100350</td><td>NA</td></tr>\n",
              "</tbody>\n",
              "</table>\n"
            ],
            "text/latex": [
              "A data.frame: 6 × 7\n",
              "\\begin{tabular}{r|lllllll}\n",
              "  & ID.OMM.station & Date & Pression.au.niveau.mer & Variation.de.pression.en.3.heures & Type.de.tendance.barométrique & Pression.station & Niveau.barométrique\\\\\n",
              "  & <int> & <chr> & <int> & <dbl> & <int> & <dbl> & <dbl>\\\\\n",
              "\\hline\n",
              "\t1 &  7790 & 2015-08-04T02:00:00+02:00 & 101570 &  30 & 1 & 101430 & NA\\\\\n",
              "\t2 &  7761 & 2015-08-04T02:00:00+02:00 & 101600 &  50 & 0 & 101500 & NA\\\\\n",
              "\t3 &  7020 & 2015-08-04T02:00:00+02:00 & 101390 & -10 & 7 & 101130 & NA\\\\\n",
              "\t4 &  7240 & 2015-08-04T02:00:00+02:00 & 101410 & 130 & 3 & 100110 & NA\\\\\n",
              "\t5 & 81415 & 2015-08-04T02:00:00+02:00 & 101370 & 270 & 3 & 100160 & NA\\\\\n",
              "\t6 &  7110 & 2015-08-04T02:00:00+02:00 & 101490 &  40 & 1 & 100350 & NA\\\\\n",
              "\\end{tabular}\n"
            ],
            "text/markdown": [
              "\n",
              "A data.frame: 6 × 7\n",
              "\n",
              "| <!--/--> | ID.OMM.station &lt;int&gt; | Date &lt;chr&gt; | Pression.au.niveau.mer &lt;int&gt; | Variation.de.pression.en.3.heures &lt;dbl&gt; | Type.de.tendance.barométrique &lt;int&gt; | Pression.station &lt;dbl&gt; | Niveau.barométrique &lt;dbl&gt; |\n",
              "|---|---|---|---|---|---|---|---|\n",
              "| 1 |  7790 | 2015-08-04T02:00:00+02:00 | 101570 |  30 | 1 | 101430 | NA |\n",
              "| 2 |  7761 | 2015-08-04T02:00:00+02:00 | 101600 |  50 | 0 | 101500 | NA |\n",
              "| 3 |  7020 | 2015-08-04T02:00:00+02:00 | 101390 | -10 | 7 | 101130 | NA |\n",
              "| 4 |  7240 | 2015-08-04T02:00:00+02:00 | 101410 | 130 | 3 | 100110 | NA |\n",
              "| 5 | 81415 | 2015-08-04T02:00:00+02:00 | 101370 | 270 | 3 | 100160 | NA |\n",
              "| 6 |  7110 | 2015-08-04T02:00:00+02:00 | 101490 |  40 | 1 | 100350 | NA |\n",
              "\n"
            ],
            "text/plain": [
              "  ID.OMM.station Date                      Pression.au.niveau.mer\n",
              "1  7790          2015-08-04T02:00:00+02:00 101570                \n",
              "2  7761          2015-08-04T02:00:00+02:00 101600                \n",
              "3  7020          2015-08-04T02:00:00+02:00 101390                \n",
              "4  7240          2015-08-04T02:00:00+02:00 101410                \n",
              "5 81415          2015-08-04T02:00:00+02:00 101370                \n",
              "6  7110          2015-08-04T02:00:00+02:00 101490                \n",
              "  Variation.de.pression.en.3.heures Type.de.tendance.barométrique\n",
              "1  30                               1                            \n",
              "2  50                               0                            \n",
              "3 -10                               7                            \n",
              "4 130                               3                            \n",
              "5 270                               3                            \n",
              "6  40                               1                            \n",
              "  Pression.station Niveau.barométrique\n",
              "1 101430           NA                 \n",
              "2 101500           NA                 \n",
              "3 101130           NA                 \n",
              "4 100110           NA                 \n",
              "5 100160           NA                 \n",
              "6 100350           NA                 "
            ]
          },
          "metadata": {},
          "output_type": "display_data"
        }
      ],
      "source": [
        "# Selection of pressure-related values\n",
        "pressure_data <- data_weather[, c(1:5, 21:22)]\n",
        "\n",
        "# Sort by ascending date\n",
        "pressure_data <- pressure_data[order(pressure_data$Date), ]\n",
        "\n",
        "# Reorganize the index\n",
        "row.names(pressure_data) <- NULL\n",
        "head(pressure_data)\n"
      ]
    },
    {
      "cell_type": "code",
      "execution_count": null,
      "metadata": {
        "vscode": {
          "languageId": "r"
        }
      },
      "outputs": [
        {
          "data": {
            "image/png": "[encoded data removed]",
            "text/plain": [
              "plot without title"
            ]
          },
          "metadata": {
            "image/png": {
              "height": 420,
              "width": 420
            }
          },
          "output_type": "display_data"
        }
      ],
      "source": [
        "# Chart to visualize missing pressure data with column numbers as labels\n",
        "col_numbers <- seq_along(colnames(pressure_data))\n",
        "colnames(pressure_data) <- as.character(col_numbers)\n",
        "vis_dat(\n",
        "  pressure_data, \n",
        "  warn_large_data = FALSE\n",
        ") +\n",
        "  ggplot2::theme(\n",
        "    axis.text.x = ggplot2::element_text(angle = 45, hjust = 1, size = 12),\n",
        "    axis.text.y = ggplot2::element_text(size = 12),\n",
        "    axis.title = ggplot2::element_text(size = 14),\n",
        "    plot.title = ggplot2::element_text(size = 16, face = \"bold\")\n",
        "  )\n"
      ]
    },
    {
      "cell_type": "markdown",
      "metadata": {},
      "source": [
        "**Correspondence between column number and variable name for `pressure_data`:**\n",
        "\n",
        "| Column Number | Variable Name |\n",
        "|---------------|---------------|\n",
        "| 1             | `ID.OMM.station` |\n",
        "| 2             | `Date`           |\n",
        "| 3             | `Pression.au.niveau.mer` |\n",
        "| 4             | `Variation.de.pression.en.3.heures` |\n",
        "| 5             | `Type.de.tendance.barométrique` |\n",
        "| 6             | `Pression.station` |\n",
        "| 7             | `Niveau.barométrique` |\n"
      ]
    },
    {
      "cell_type": "code",
      "execution_count": 9,
      "metadata": {
        "vscode": {
          "languageId": "r"
        }
      },
      "outputs": [
        {
          "data": {
            "text/html": [
              "<table class=\"dataframe\">\n",
              "<caption>A data.frame: 6 × 8</caption>\n",
              "<thead>\n",
              "\t<tr><th></th><th scope=col>ID.OMM.station</th><th scope=col>Date</th><th scope=col>Humidité</th><th scope=col>Précipitations.dans.la.dernière.heure</th><th scope=col>Précipitations.dans.les.3.dernières.heures</th><th scope=col>Précipitations.dans.les.6.dernières.heures</th><th scope=col>Précipitations.dans.les.12.dernières.heures</th><th scope=col>Précipitations.dans.les.24.dernières.heures</th></tr>\n",
              "\t<tr><th></th><th scope=col>&lt;int&gt;</th><th scope=col>&lt;chr&gt;</th><th scope=col>&lt;int&gt;</th><th scope=col>&lt;dbl&gt;</th><th scope=col>&lt;dbl&gt;</th><th scope=col>&lt;dbl&gt;</th><th scope=col>&lt;dbl&gt;</th><th scope=col>&lt;dbl&gt;</th></tr>\n",
              "</thead>\n",
              "<tbody>\n",
              "\t<tr><th scope=row>1</th><td> 7790</td><td>2015-08-04T02:00:00+02:00</td><td>68</td><td> 0.0</td><td> 0.0</td><td> 0.0</td><td> 0.0</td><td> 0.0</td></tr>\n",
              "\t<tr><th scope=row>2</th><td> 7761</td><td>2015-08-04T02:00:00+02:00</td><td>86</td><td> 0.0</td><td> 0.0</td><td> 0.0</td><td> 0.0</td><td> 0.0</td></tr>\n",
              "\t<tr><th scope=row>3</th><td> 7020</td><td>2015-08-04T02:00:00+02:00</td><td>88</td><td> 0.0</td><td>-0.1</td><td> 0.2</td><td> 4.0</td><td> 4.2</td></tr>\n",
              "\t<tr><th scope=row>4</th><td> 7240</td><td>2015-08-04T02:00:00+02:00</td><td>81</td><td>-0.1</td><td>-0.1</td><td>-0.1</td><td>-0.1</td><td>-0.1</td></tr>\n",
              "\t<tr><th scope=row>5</th><td>81415</td><td>2015-08-04T02:00:00+02:00</td><td>91</td><td> 0.2</td><td> 1.8</td><td> 1.8</td><td> 1.8</td><td> 1.8</td></tr>\n",
              "\t<tr><th scope=row>6</th><td> 7110</td><td>2015-08-04T02:00:00+02:00</td><td>88</td><td> 0.0</td><td> 0.0</td><td> 0.0</td><td> 0.8</td><td> 2.4</td></tr>\n",
              "</tbody>\n",
              "</table>\n"
            ],
            "text/latex": [
              "A data.frame: 6 × 8\n",
              "\\begin{tabular}{r|llllllll}\n",
              "  & ID.OMM.station & Date & Humidité & Précipitations.dans.la.dernière.heure & Précipitations.dans.les.3.dernières.heures & Précipitations.dans.les.6.dernières.heures & Précipitations.dans.les.12.dernières.heures & Précipitations.dans.les.24.dernières.heures\\\\\n",
              "  & <int> & <chr> & <int> & <dbl> & <dbl> & <dbl> & <dbl> & <dbl>\\\\\n",
              "\\hline\n",
              "\t1 &  7790 & 2015-08-04T02:00:00+02:00 & 68 &  0.0 &  0.0 &  0.0 &  0.0 &  0.0\\\\\n",
              "\t2 &  7761 & 2015-08-04T02:00:00+02:00 & 86 &  0.0 &  0.0 &  0.0 &  0.0 &  0.0\\\\\n",
              "\t3 &  7020 & 2015-08-04T02:00:00+02:00 & 88 &  0.0 & -0.1 &  0.2 &  4.0 &  4.2\\\\\n",
              "\t4 &  7240 & 2015-08-04T02:00:00+02:00 & 81 & -0.1 & -0.1 & -0.1 & -0.1 & -0.1\\\\\n",
              "\t5 & 81415 & 2015-08-04T02:00:00+02:00 & 91 &  0.2 &  1.8 &  1.8 &  1.8 &  1.8\\\\\n",
              "\t6 &  7110 & 2015-08-04T02:00:00+02:00 & 88 &  0.0 &  0.0 &  0.0 &  0.8 &  2.4\\\\\n",
              "\\end{tabular}\n"
            ],
            "text/markdown": [
              "\n",
              "A data.frame: 6 × 8\n",
              "\n",
              "| <!--/--> | ID.OMM.station &lt;int&gt; | Date &lt;chr&gt; | Humidité &lt;int&gt; | Précipitations.dans.la.dernière.heure &lt;dbl&gt; | Précipitations.dans.les.3.dernières.heures &lt;dbl&gt; | Précipitations.dans.les.6.dernières.heures &lt;dbl&gt; | Précipitations.dans.les.12.dernières.heures &lt;dbl&gt; | Précipitations.dans.les.24.dernières.heures &lt;dbl&gt; |\n",
              "|---|---|---|---|---|---|---|---|---|\n",
              "| 1 |  7790 | 2015-08-04T02:00:00+02:00 | 68 |  0.0 |  0.0 |  0.0 |  0.0 |  0.0 |\n",
              "| 2 |  7761 | 2015-08-04T02:00:00+02:00 | 86 |  0.0 |  0.0 |  0.0 |  0.0 |  0.0 |\n",
              "| 3 |  7020 | 2015-08-04T02:00:00+02:00 | 88 |  0.0 | -0.1 |  0.2 |  4.0 |  4.2 |\n",
              "| 4 |  7240 | 2015-08-04T02:00:00+02:00 | 81 | -0.1 | -0.1 | -0.1 | -0.1 | -0.1 |\n",
              "| 5 | 81415 | 2015-08-04T02:00:00+02:00 | 91 |  0.2 |  1.8 |  1.8 |  1.8 |  1.8 |\n",
              "| 6 |  7110 | 2015-08-04T02:00:00+02:00 | 88 |  0.0 |  0.0 |  0.0 |  0.8 |  2.4 |\n",
              "\n"
            ],
            "text/plain": [
              "  ID.OMM.station Date                      Humidité\n",
              "1  7790          2015-08-04T02:00:00+02:00 68      \n",
              "2  7761          2015-08-04T02:00:00+02:00 86      \n",
              "3  7020          2015-08-04T02:00:00+02:00 88      \n",
              "4  7240          2015-08-04T02:00:00+02:00 81      \n",
              "5 81415          2015-08-04T02:00:00+02:00 91      \n",
              "6  7110          2015-08-04T02:00:00+02:00 88      \n",
              "  Précipitations.dans.la.dernière.heure\n",
              "1  0.0                                 \n",
              "2  0.0                                 \n",
              "3  0.0                                 \n",
              "4 -0.1                                 \n",
              "5  0.2                                 \n",
              "6  0.0                                 \n",
              "  Précipitations.dans.les.3.dernières.heures\n",
              "1  0.0                                      \n",
              "2  0.0                                      \n",
              "3 -0.1                                      \n",
              "4 -0.1                                      \n",
              "5  1.8                                      \n",
              "6  0.0                                      \n",
              "  Précipitations.dans.les.6.dernières.heures\n",
              "1  0.0                                      \n",
              "2  0.0                                      \n",
              "3  0.2                                      \n",
              "4 -0.1                                      \n",
              "5  1.8                                      \n",
              "6  0.0                                      \n",
              "  Précipitations.dans.les.12.dernières.heures\n",
              "1  0.0                                       \n",
              "2  0.0                                       \n",
              "3  4.0                                       \n",
              "4 -0.1                                       \n",
              "5  1.8                                       \n",
              "6  0.8                                       \n",
              "  Précipitations.dans.les.24.dernières.heures\n",
              "1  0.0                                       \n",
              "2  0.0                                       \n",
              "3  4.2                                       \n",
              "4 -0.1                                       \n",
              "5  1.8                                       \n",
              "6  2.4                                       "
            ]
          },
          "metadata": {},
          "output_type": "display_data"
        }
      ],
      "source": [
        "# Selection of precipitation-related values\n",
        "precipitation_data <- data_weather[, c(1:2, 10, 39:43)]\n",
        "\n",
        "# Sort by ascending date\n",
        "precipitation_data <- precipitation_data[order(precipitation_data$Date), ]\n",
        "\n",
        "# Reorganize the index\n",
        "row.names(precipitation_data) <- NULL\n",
        "head(precipitation_data)\n"
      ]
    },
    {
      "cell_type": "code",
      "execution_count": null,
      "metadata": {
        "vscode": {
          "languageId": "r"
        }
      },
      "outputs": [
        {
          "data": {
            "image/png": "[encoded data removed]",
            "text/plain": [
              "plot without title"
            ]
          },
          "metadata": {
            "image/png": {
              "height": 420,
              "width": 420
            }
          },
          "output_type": "display_data"
        }
      ],
      "source": [
        "# Chart to visualize missing precipitation data with column numbers as labels\n",
        "col_numbers <- seq_along(colnames(precipitation_data))\n",
        "colnames(precipitation_data) <- as.character(col_numbers)\n",
        "vis_dat(\n",
        "  precipitation_data, \n",
        "  warn_large_data = FALSE\n",
        ") +\n",
        "  ggplot2::theme(\n",
        "    axis.text.x = ggplot2::element_text(angle = 45, hjust = 1, size = 12),\n",
        "    axis.text.y = ggplot2::element_text(size = 12),\n",
        "    axis.title = ggplot2::element_text(size = 14),\n",
        "    plot.title = ggplot2::element_text(size = 16, face = \"bold\")\n",
        "  )\n"
      ]
    },
    {
      "cell_type": "markdown",
      "metadata": {},
      "source": [
        "**Correspondence between column number and variable name for `precipitation_data`:**\n",
        "\n",
        "| Column Number | Variable Name |\n",
        "|---------------|---------------|\n",
        "| 1             | `ID.OMM.station` |\n",
        "| 2             | `Date`           |\n",
        "| 3             | `Humidité` |\n",
        "| 4             | `Précipitations.dans.la.dernière.heure` |\n",
        "| 5             | `Précipitations.dans.la.dernière.3.heures` |\n",
        "| 6             | `Précipitations.dans.la.dernière.6.heures` |\n",
        "| 7             | `Précipitations.dans.la.dernière.12.heures` |\n",
        "| 8             | `Précipitations.dans.la.dernière.24.heures` |\n"
      ]
    },
    {
      "cell_type": "code",
      "execution_count": 11,
      "metadata": {
        "vscode": {
          "languageId": "r"
        }
      },
      "outputs": [
        {
          "data": {
            "text/plain": [
              "NULL"
            ]
          },
          "metadata": {},
          "output_type": "display_data"
        }
      ],
      "source": [
        "# Getting all the different stations\n",
        "stations <- unique(temperature_data$ID.OMM.station)\n",
        "stations\n"
      ]
    },
    {
      "cell_type": "markdown",
      "metadata": {},
      "source": [
        "### 3. SELECTED DATASET - ESSENTIAL METEOROLOGICAL VARIABLES\n",
        "\n",
        "In this section, we create a dataset with only the most important meteorological variables for analysis.\n"
      ]
    },
    {
      "cell_type": "code",
      "execution_count": 16,
      "metadata": {
        "vscode": {
          "languageId": "r"
        }
      },
      "outputs": [
        {
          "data": {
            "text/html": [
              "<table class=\"dataframe\">\n",
              "<caption>A data.frame: 6 × 15</caption>\n",
              "<thead>\n",
              "\t<tr><th></th><th scope=col>ID.OMM.station</th><th scope=col>Date</th><th scope=col>Pression.au.niveau.mer</th><th scope=col>Direction.du.vent.moyen.10.mn</th><th scope=col>Vitesse.du.vent.moyen.10.mn</th><th scope=col>Température</th><th scope=col>Nebulosité.totale</th><th scope=col>Rafale.sur.les.10.dernières.minutes</th><th scope=col>Précipitations.dans.la.dernière.heure</th><th scope=col>Coordonnees</th><th scope=col>Nom</th><th scope=col>Latitude</th><th scope=col>Longitude</th><th scope=col>Altitude</th><th scope=col>mois_de_l_annee</th></tr>\n",
              "\t<tr><th></th><th scope=col>&lt;int&gt;</th><th scope=col>&lt;chr&gt;</th><th scope=col>&lt;int&gt;</th><th scope=col>&lt;int&gt;</th><th scope=col>&lt;dbl&gt;</th><th scope=col>&lt;dbl&gt;</th><th scope=col>&lt;dbl&gt;</th><th scope=col>&lt;dbl&gt;</th><th scope=col>&lt;dbl&gt;</th><th scope=col>&lt;chr&gt;</th><th scope=col>&lt;chr&gt;</th><th scope=col>&lt;dbl&gt;</th><th scope=col>&lt;dbl&gt;</th><th scope=col>&lt;int&gt;</th><th scope=col>&lt;int&gt;</th></tr>\n",
              "</thead>\n",
              "<tbody>\n",
              "\t<tr><th scope=row>1</th><td> 7790</td><td>2015-08-04T02:00:00+02:00</td><td>101570</td><td>260</td><td>1.5</td><td>294.85</td><td>NA</td><td> NA</td><td> 0.0</td><td>42.540667, 9.485167 </td><td>BASTIA         </td><td>42.540667</td><td>  9.485167</td><td> 10</td><td>8</td></tr>\n",
              "\t<tr><th scope=row>2</th><td> 7761</td><td>2015-08-04T02:00:00+02:00</td><td>101600</td><td> 70</td><td>2.7</td><td>295.15</td><td>NA</td><td> NA</td><td> 0.0</td><td>41.918, 8.792667    </td><td>AJACCIO        </td><td>41.918000</td><td>  8.792667</td><td>  5</td><td>8</td></tr>\n",
              "\t<tr><th scope=row>3</th><td> 7020</td><td>2015-08-04T02:00:00+02:00</td><td>101390</td><td>240</td><td>6.5</td><td>288.85</td><td>10</td><td>8.1</td><td> 0.0</td><td>49.725167, -1.939833</td><td>PTE DE LA HAGUE</td><td>49.725167</td><td> -1.939833</td><td>  6</td><td>8</td></tr>\n",
              "\t<tr><th scope=row>4</th><td> 7240</td><td>2015-08-04T02:00:00+02:00</td><td>101410</td><td>270</td><td>3.1</td><td>292.85</td><td>90</td><td>5.1</td><td>-0.1</td><td>47.4445, 0.727333   </td><td>TOURS          </td><td>47.444500</td><td>  0.727333</td><td>108</td><td>8</td></tr>\n",
              "\t<tr><th scope=row>5</th><td>81415</td><td>2015-08-04T02:00:00+02:00</td><td>101370</td><td>220</td><td>1.5</td><td>297.55</td><td>NA</td><td>3.0</td><td> 0.2</td><td>3.640167, -54.028333</td><td>MARIPASOULA    </td><td> 3.640167</td><td>-54.028333</td><td>106</td><td>8</td></tr>\n",
              "\t<tr><th scope=row>6</th><td> 7110</td><td>2015-08-04T02:00:00+02:00</td><td>101490</td><td>240</td><td>3.0</td><td>286.35</td><td>10</td><td>4.5</td><td> 0.0</td><td>48.444167, -4.412   </td><td>BREST-GUIPAVAS </td><td>48.444167</td><td> -4.412000</td><td> 94</td><td>8</td></tr>\n",
              "</tbody>\n",
              "</table>\n"
            ],
            "text/latex": [
              "A data.frame: 6 × 15\n",
              "\\begin{tabular}{r|lllllllllllllll}\n",
              "  & ID.OMM.station & Date & Pression.au.niveau.mer & Direction.du.vent.moyen.10.mn & Vitesse.du.vent.moyen.10.mn & Température & Nebulosité.totale & Rafale.sur.les.10.dernières.minutes & Précipitations.dans.la.dernière.heure & Coordonnees & Nom & Latitude & Longitude & Altitude & mois\\_de\\_l\\_annee\\\\\n",
              "  & <int> & <chr> & <int> & <int> & <dbl> & <dbl> & <dbl> & <dbl> & <dbl> & <chr> & <chr> & <dbl> & <dbl> & <int> & <int>\\\\\n",
              "\\hline\n",
              "\t1 &  7790 & 2015-08-04T02:00:00+02:00 & 101570 & 260 & 1.5 & 294.85 & NA &  NA &  0.0 & 42.540667, 9.485167  & BASTIA          & 42.540667 &   9.485167 &  10 & 8\\\\\n",
              "\t2 &  7761 & 2015-08-04T02:00:00+02:00 & 101600 &  70 & 2.7 & 295.15 & NA &  NA &  0.0 & 41.918, 8.792667     & AJACCIO         & 41.918000 &   8.792667 &   5 & 8\\\\\n",
              "\t3 &  7020 & 2015-08-04T02:00:00+02:00 & 101390 & 240 & 6.5 & 288.85 & 10 & 8.1 &  0.0 & 49.725167, -1.939833 & PTE DE LA HAGUE & 49.725167 &  -1.939833 &   6 & 8\\\\\n",
              "\t4 &  7240 & 2015-08-04T02:00:00+02:00 & 101410 & 270 & 3.1 & 292.85 & 90 & 5.1 & -0.1 & 47.4445, 0.727333    & TOURS           & 47.444500 &   0.727333 & 108 & 8\\\\\n",
              "\t5 & 81415 & 2015-08-04T02:00:00+02:00 & 101370 & 220 & 1.5 & 297.55 & NA & 3.0 &  0.2 & 3.640167, -54.028333 & MARIPASOULA     &  3.640167 & -54.028333 & 106 & 8\\\\\n",
              "\t6 &  7110 & 2015-08-04T02:00:00+02:00 & 101490 & 240 & 3.0 & 286.35 & 10 & 4.5 &  0.0 & 48.444167, -4.412    & BREST-GUIPAVAS  & 48.444167 &  -4.412000 &  94 & 8\\\\\n",
              "\\end{tabular}\n"
            ],
            "text/markdown": [
              "\n",
              "A data.frame: 6 × 15\n",
              "\n",
              "| <!--/--> | ID.OMM.station &lt;int&gt; | Date &lt;chr&gt; | Pression.au.niveau.mer &lt;int&gt; | Direction.du.vent.moyen.10.mn &lt;int&gt; | Vitesse.du.vent.moyen.10.mn &lt;dbl&gt; | Température &lt;dbl&gt; | Nebulosité.totale &lt;dbl&gt; | Rafale.sur.les.10.dernières.minutes &lt;dbl&gt; | Précipitations.dans.la.dernière.heure &lt;dbl&gt; | Coordonnees &lt;chr&gt; | Nom &lt;chr&gt; | Latitude &lt;dbl&gt; | Longitude &lt;dbl&gt; | Altitude &lt;int&gt; | mois_de_l_annee &lt;int&gt; |\n",
              "|---|---|---|---|---|---|---|---|---|---|---|---|---|---|---|---|\n",
              "| 1 |  7790 | 2015-08-04T02:00:00+02:00 | 101570 | 260 | 1.5 | 294.85 | NA |  NA |  0.0 | 42.540667, 9.485167  | BASTIA          | 42.540667 |   9.485167 |  10 | 8 |\n",
              "| 2 |  7761 | 2015-08-04T02:00:00+02:00 | 101600 |  70 | 2.7 | 295.15 | NA |  NA |  0.0 | 41.918, 8.792667     | AJACCIO         | 41.918000 |   8.792667 |   5 | 8 |\n",
              "| 3 |  7020 | 2015-08-04T02:00:00+02:00 | 101390 | 240 | 6.5 | 288.85 | 10 | 8.1 |  0.0 | 49.725167, -1.939833 | PTE DE LA HAGUE | 49.725167 |  -1.939833 |   6 | 8 |\n",
              "| 4 |  7240 | 2015-08-04T02:00:00+02:00 | 101410 | 270 | 3.1 | 292.85 | 90 | 5.1 | -0.1 | 47.4445, 0.727333    | TOURS           | 47.444500 |   0.727333 | 108 | 8 |\n",
              "| 5 | 81415 | 2015-08-04T02:00:00+02:00 | 101370 | 220 | 1.5 | 297.55 | NA | 3.0 |  0.2 | 3.640167, -54.028333 | MARIPASOULA     |  3.640167 | -54.028333 | 106 | 8 |\n",
              "| 6 |  7110 | 2015-08-04T02:00:00+02:00 | 101490 | 240 | 3.0 | 286.35 | 10 | 4.5 |  0.0 | 48.444167, -4.412    | BREST-GUIPAVAS  | 48.444167 |  -4.412000 |  94 | 8 |\n",
              "\n"
            ],
            "text/plain": [
              "  ID.OMM.station Date                      Pression.au.niveau.mer\n",
              "1  7790          2015-08-04T02:00:00+02:00 101570                \n",
              "2  7761          2015-08-04T02:00:00+02:00 101600                \n",
              "3  7020          2015-08-04T02:00:00+02:00 101390                \n",
              "4  7240          2015-08-04T02:00:00+02:00 101410                \n",
              "5 81415          2015-08-04T02:00:00+02:00 101370                \n",
              "6  7110          2015-08-04T02:00:00+02:00 101490                \n",
              "  Direction.du.vent.moyen.10.mn Vitesse.du.vent.moyen.10.mn Température\n",
              "1 260                           1.5                         294.85     \n",
              "2  70                           2.7                         295.15     \n",
              "3 240                           6.5                         288.85     \n",
              "4 270                           3.1                         292.85     \n",
              "5 220                           1.5                         297.55     \n",
              "6 240                           3.0                         286.35     \n",
              "  Nebulosité.totale Rafale.sur.les.10.dernières.minutes\n",
              "1 NA                 NA                                \n",
              "2 NA                 NA                                \n",
              "3 10                8.1                                \n",
              "4 90                5.1                                \n",
              "5 NA                3.0                                \n",
              "6 10                4.5                                \n",
              "  Précipitations.dans.la.dernière.heure Coordonnees          Nom            \n",
              "1  0.0                                  42.540667, 9.485167  BASTIA         \n",
              "2  0.0                                  41.918, 8.792667     AJACCIO        \n",
              "3  0.0                                  49.725167, -1.939833 PTE DE LA HAGUE\n",
              "4 -0.1                                  47.4445, 0.727333    TOURS          \n",
              "5  0.2                                  3.640167, -54.028333 MARIPASOULA    \n",
              "6  0.0                                  48.444167, -4.412    BREST-GUIPAVAS \n",
              "  Latitude  Longitude  Altitude mois_de_l_annee\n",
              "1 42.540667   9.485167  10      8              \n",
              "2 41.918000   8.792667   5      8              \n",
              "3 49.725167  -1.939833   6      8              \n",
              "4 47.444500   0.727333 108      8              \n",
              "5  3.640167 -54.028333 106      8              \n",
              "6 48.444167  -4.412000  94      8              "
            ]
          },
          "metadata": {},
          "output_type": "display_data"
        },
        {
          "data": {
            "text/html": [
              "<style>\n",
              ".list-inline {list-style: none; margin:0; padding: 0}\n",
              ".list-inline>li {display: inline-block}\n",
              ".list-inline>li:not(:last-child)::after {content: \"\\00b7\"; padding: 0 .5ex}\n",
              "</style>\n",
              "<ol class=list-inline><li>1719567</li><li>15</li></ol>\n"
            ],
            "text/latex": [
              "\\begin{enumerate*}\n",
              "\\item 1719567\n",
              "\\item 15\n",
              "\\end{enumerate*}\n"
            ],
            "text/markdown": [
              "1. 1719567\n",
              "2. 15\n",
              "\n",
              "\n"
            ],
            "text/plain": [
              "[1] 1719567      15"
            ]
          },
          "metadata": {},
          "output_type": "display_data"
        }
      ],
      "source": [
        "# Creation of the selected dataset with essential variables\n",
        "selected_weather_data <- data_weather[, c(1, 2, 3, 6, 7, 8, 15, 32, 39, 60, 61, 71, 72, 73, 82)]\n",
        "\n",
        "# Sort by ascending date\n",
        "selected_weather_data <- selected_weather_data[order(selected_weather_data$Date), ]\n",
        "\n",
        "# Reorganize the index\n",
        "rownames(selected_weather_data) <- NULL\n",
        "\n",
        "# Display first rows\n",
        "head(selected_weather_data)\n",
        "dim(selected_weather_data)\n"
      ]
    },
    {
      "cell_type": "markdown",
      "metadata": {},
      "source": [
        "**Correspondence between column number and variable name for `selected_weather_data`:**\n",
        "\n",
        "| Number | Variable Name | Description |\n",
        "|--------|---------------|-------------|\n",
        "| 1 | `ID.OMM.station` | Station identifier |\n",
        "| 2 | `Date` | Observation date/time |\n",
        "| 3 | `Pression.au.niveau.mer` | Pressure (main reference) |\n",
        "| 4 | `Direction.du.vent.moyen.10.mn` | Wind direction |\n",
        "| 5 | `Vitesse.du.vent.moyen.10.mn` | Wind speed |\n",
        "| 6 | `Température` | Air temperature |\n",
        "| 7 | `Point.de.rosée` | Humidity via dew point |\n",
        "| 8 | `Humidité` | Relative humidity |\n",
        "| 13 | `Précipitations.dans.la.dernière.heure` | Precipitation |\n",
        "| 14 | `Coordonnees` | Grouped coordinates |\n",
        "| 15 | `Nom` | Station name |\n",
        "| 16 | `Latitude` | Latitude |\n",
        "| 17 | `Longitude` | Longitude |\n",
        "| 18 | `Altitude` | Altitude |\n",
        "| 19 | `mois_de_l_annee` | Month (useful for seasonal grouping) |\n"
      ]
    },
    {
      "cell_type": "markdown",
      "metadata": {},
      "source": [
        "### 4. MISSING DATA ANALYSIS - SELECTED DATASET\n",
        "\n",
        "Visualization of missing data for the selected dataset with essential meteorological variables.\n"
      ]
    },
    {
      "cell_type": "code",
      "execution_count": 17,
      "metadata": {
        "vscode": {
          "languageId": "r"
        }
      },
      "outputs": [
        {
          "data": {
            "image/png": "[encoded data removed]",
            "text/plain": [
              "plot without title"
            ]
          },
          "metadata": {
            "image/png": {
              "height": 420,
              "width": 420
            }
          },
          "output_type": "display_data"
        }
      ],
      "source": [
        "# Create a copy with column numbers for display\n",
        "selected_data_display <- selected_weather_data\n",
        "col_numbers <- seq_along(colnames(selected_data_display))\n",
        "colnames(selected_data_display) <- as.character(col_numbers)\n",
        "\n",
        "# Missing data visualization\n",
        "vis_dat(\n",
        "  selected_data_display, \n",
        "  warn_large_data = FALSE\n",
        ") +\n",
        "  ggplot2::theme(\n",
        "    axis.text.x = ggplot2::element_text(angle = 45, hjust = 1, size = 12),\n",
        "    axis.text.y = ggplot2::element_text(size = 12),\n",
        "    axis.title = ggplot2::element_text(size = 14),\n",
        "    plot.title = ggplot2::element_text(size = 16)\n",
        "  ) +\n",
        "  ggplot2::labs(\n",
        "    title = \"Missing Data Visualization - Selected Dataset\",\n",
        "    x = \"Variables (column numbers)\",\n",
        "    y = \"Observations\"\n",
        "  )\n"
      ]
    },
    {
      "cell_type": "code",
      "execution_count": 20,
      "metadata": {
        "vscode": {
          "languageId": "r"
        }
      },
      "outputs": [
        {
          "name": "stdout",
          "output_type": "stream",
          "text": [
            "Missing data summary by variable:\n",
            "                                                                   Variable\n",
            "Nebulosité.totale                                         Nebulosité.totale\n",
            "Rafale.sur.les.10.dernières.minutes     Rafale.sur.les.10.dernières.minutes\n",
            "Pression.au.niveau.mer                               Pression.au.niveau.mer\n",
            "Précipitations.dans.la.dernière.heure Précipitations.dans.la.dernière.heure\n",
            "Température                                                     Température\n",
            "Direction.du.vent.moyen.10.mn                 Direction.du.vent.moyen.10.mn\n",
            "Vitesse.du.vent.moyen.10.mn                     Vitesse.du.vent.moyen.10.mn\n",
            "ID.OMM.station                                               ID.OMM.station\n",
            "Date                                                                   Date\n",
            "Coordonnees                                                     Coordonnees\n",
            "Nom                                                                     Nom\n",
            "Latitude                                                           Latitude\n",
            "Longitude                                                         Longitude\n",
            "Altitude                                                           Altitude\n",
            "mois_de_l_annee                                             mois_de_l_annee\n",
            "                                      Missing_Count Missing_Percentage\n",
            "Nebulosité.totale                            999388              58.12\n",
            "Rafale.sur.les.10.dernières.minutes          368489              21.43\n",
            "Pression.au.niveau.mer                        94370               5.49\n",
            "Précipitations.dans.la.dernière.heure         78388               4.56\n",
            "Température                                   22176               1.29\n",
            "Direction.du.vent.moyen.10.mn                 14843               0.86\n",
            "Vitesse.du.vent.moyen.10.mn                   14524               0.84\n",
            "ID.OMM.station                                    0               0.00\n",
            "Date                                              0               0.00\n",
            "Coordonnees                                       0               0.00\n",
            "Nom                                               0               0.00\n",
            "Latitude                                          0               0.00\n",
            "Longitude                                         0               0.00\n",
            "Altitude                                          0               0.00\n",
            "mois_de_l_annee                                   0               0.00\n"
          ]
        }
      ],
      "source": [
        "# Quantitative analysis of missing data\n",
        "missing_count <- sapply(selected_weather_data, function(x) sum(is.na(x)))\n",
        "missing_percentage <- round(missing_count / nrow(selected_weather_data) * 100, 2)\n",
        "\n",
        "missing_data_summary <- data.frame(\n",
        "  Variable = colnames(selected_weather_data),\n",
        "  Missing_Count = missing_count,\n",
        "  Missing_Percentage = missing_percentage\n",
        ")\n",
        "\n",
        "# Sort by missing data percentage in descending order\n",
        "missing_data_summary <- missing_data_summary[order(missing_data_summary$Missing_Percentage, decreasing = TRUE), ]\n",
        "\n",
        "cat(\"Missing data summary by variable:\\n\")\n",
        "print(missing_data_summary)\n"
      ]
    },
    {
      "cell_type": "markdown",
      "metadata": {},
      "source": [
        "### 5. FINAL DATASET - REMOVING HIGH MISSING DATA VARIABLES\n",
        "\n",
        "Creation of a final dataset by removing variables with high percentages of missing data to improve data quality for analysis.\n"
      ]
    },
    {
      "cell_type": "code",
      "execution_count": 21,
      "metadata": {
        "vscode": {
          "languageId": "r"
        }
      },
      "outputs": [
        {
          "name": "stdout",
          "output_type": "stream",
          "text": [
            "Final dataset dimensions: 1719567 observations and 13 variables\n"
          ]
        },
        {
          "data": {
            "text/html": [
              "<table class=\"dataframe\">\n",
              "<caption>A data.frame: 6 × 13</caption>\n",
              "<thead>\n",
              "\t<tr><th></th><th scope=col>ID.OMM.station</th><th scope=col>Date</th><th scope=col>Pression.au.niveau.mer</th><th scope=col>Direction.du.vent.moyen.10.mn</th><th scope=col>Vitesse.du.vent.moyen.10.mn</th><th scope=col>Température</th><th scope=col>Précipitations.dans.la.dernière.heure</th><th scope=col>Coordonnees</th><th scope=col>Nom</th><th scope=col>Latitude</th><th scope=col>Longitude</th><th scope=col>Altitude</th><th scope=col>mois_de_l_annee</th></tr>\n",
              "\t<tr><th></th><th scope=col>&lt;int&gt;</th><th scope=col>&lt;chr&gt;</th><th scope=col>&lt;int&gt;</th><th scope=col>&lt;int&gt;</th><th scope=col>&lt;dbl&gt;</th><th scope=col>&lt;dbl&gt;</th><th scope=col>&lt;dbl&gt;</th><th scope=col>&lt;chr&gt;</th><th scope=col>&lt;chr&gt;</th><th scope=col>&lt;dbl&gt;</th><th scope=col>&lt;dbl&gt;</th><th scope=col>&lt;int&gt;</th><th scope=col>&lt;int&gt;</th></tr>\n",
              "</thead>\n",
              "<tbody>\n",
              "\t<tr><th scope=row>1</th><td> 7790</td><td>2015-08-04T02:00:00+02:00</td><td>101570</td><td>260</td><td>1.5</td><td>294.85</td><td> 0.0</td><td>42.540667, 9.485167 </td><td>BASTIA         </td><td>42.540667</td><td>  9.485167</td><td> 10</td><td>8</td></tr>\n",
              "\t<tr><th scope=row>2</th><td> 7761</td><td>2015-08-04T02:00:00+02:00</td><td>101600</td><td> 70</td><td>2.7</td><td>295.15</td><td> 0.0</td><td>41.918, 8.792667    </td><td>AJACCIO        </td><td>41.918000</td><td>  8.792667</td><td>  5</td><td>8</td></tr>\n",
              "\t<tr><th scope=row>3</th><td> 7020</td><td>2015-08-04T02:00:00+02:00</td><td>101390</td><td>240</td><td>6.5</td><td>288.85</td><td> 0.0</td><td>49.725167, -1.939833</td><td>PTE DE LA HAGUE</td><td>49.725167</td><td> -1.939833</td><td>  6</td><td>8</td></tr>\n",
              "\t<tr><th scope=row>4</th><td> 7240</td><td>2015-08-04T02:00:00+02:00</td><td>101410</td><td>270</td><td>3.1</td><td>292.85</td><td>-0.1</td><td>47.4445, 0.727333   </td><td>TOURS          </td><td>47.444500</td><td>  0.727333</td><td>108</td><td>8</td></tr>\n",
              "\t<tr><th scope=row>5</th><td>81415</td><td>2015-08-04T02:00:00+02:00</td><td>101370</td><td>220</td><td>1.5</td><td>297.55</td><td> 0.2</td><td>3.640167, -54.028333</td><td>MARIPASOULA    </td><td> 3.640167</td><td>-54.028333</td><td>106</td><td>8</td></tr>\n",
              "\t<tr><th scope=row>6</th><td> 7110</td><td>2015-08-04T02:00:00+02:00</td><td>101490</td><td>240</td><td>3.0</td><td>286.35</td><td> 0.0</td><td>48.444167, -4.412   </td><td>BREST-GUIPAVAS </td><td>48.444167</td><td> -4.412000</td><td> 94</td><td>8</td></tr>\n",
              "</tbody>\n",
              "</table>\n"
            ],
            "text/latex": [
              "A data.frame: 6 × 13\n",
              "\\begin{tabular}{r|lllllllllllll}\n",
              "  & ID.OMM.station & Date & Pression.au.niveau.mer & Direction.du.vent.moyen.10.mn & Vitesse.du.vent.moyen.10.mn & Température & Précipitations.dans.la.dernière.heure & Coordonnees & Nom & Latitude & Longitude & Altitude & mois\\_de\\_l\\_annee\\\\\n",
              "  & <int> & <chr> & <int> & <int> & <dbl> & <dbl> & <dbl> & <chr> & <chr> & <dbl> & <dbl> & <int> & <int>\\\\\n",
              "\\hline\n",
              "\t1 &  7790 & 2015-08-04T02:00:00+02:00 & 101570 & 260 & 1.5 & 294.85 &  0.0 & 42.540667, 9.485167  & BASTIA          & 42.540667 &   9.485167 &  10 & 8\\\\\n",
              "\t2 &  7761 & 2015-08-04T02:00:00+02:00 & 101600 &  70 & 2.7 & 295.15 &  0.0 & 41.918, 8.792667     & AJACCIO         & 41.918000 &   8.792667 &   5 & 8\\\\\n",
              "\t3 &  7020 & 2015-08-04T02:00:00+02:00 & 101390 & 240 & 6.5 & 288.85 &  0.0 & 49.725167, -1.939833 & PTE DE LA HAGUE & 49.725167 &  -1.939833 &   6 & 8\\\\\n",
              "\t4 &  7240 & 2015-08-04T02:00:00+02:00 & 101410 & 270 & 3.1 & 292.85 & -0.1 & 47.4445, 0.727333    & TOURS           & 47.444500 &   0.727333 & 108 & 8\\\\\n",
              "\t5 & 81415 & 2015-08-04T02:00:00+02:00 & 101370 & 220 & 1.5 & 297.55 &  0.2 & 3.640167, -54.028333 & MARIPASOULA     &  3.640167 & -54.028333 & 106 & 8\\\\\n",
              "\t6 &  7110 & 2015-08-04T02:00:00+02:00 & 101490 & 240 & 3.0 & 286.35 &  0.0 & 48.444167, -4.412    & BREST-GUIPAVAS  & 48.444167 &  -4.412000 &  94 & 8\\\\\n",
              "\\end{tabular}\n"
            ],
            "text/markdown": [
              "\n",
              "A data.frame: 6 × 13\n",
              "\n",
              "| <!--/--> | ID.OMM.station &lt;int&gt; | Date &lt;chr&gt; | Pression.au.niveau.mer &lt;int&gt; | Direction.du.vent.moyen.10.mn &lt;int&gt; | Vitesse.du.vent.moyen.10.mn &lt;dbl&gt; | Température &lt;dbl&gt; | Précipitations.dans.la.dernière.heure &lt;dbl&gt; | Coordonnees &lt;chr&gt; | Nom &lt;chr&gt; | Latitude &lt;dbl&gt; | Longitude &lt;dbl&gt; | Altitude &lt;int&gt; | mois_de_l_annee &lt;int&gt; |\n",
              "|---|---|---|---|---|---|---|---|---|---|---|---|---|---|\n",
              "| 1 |  7790 | 2015-08-04T02:00:00+02:00 | 101570 | 260 | 1.5 | 294.85 |  0.0 | 42.540667, 9.485167  | BASTIA          | 42.540667 |   9.485167 |  10 | 8 |\n",
              "| 2 |  7761 | 2015-08-04T02:00:00+02:00 | 101600 |  70 | 2.7 | 295.15 |  0.0 | 41.918, 8.792667     | AJACCIO         | 41.918000 |   8.792667 |   5 | 8 |\n",
              "| 3 |  7020 | 2015-08-04T02:00:00+02:00 | 101390 | 240 | 6.5 | 288.85 |  0.0 | 49.725167, -1.939833 | PTE DE LA HAGUE | 49.725167 |  -1.939833 |   6 | 8 |\n",
              "| 4 |  7240 | 2015-08-04T02:00:00+02:00 | 101410 | 270 | 3.1 | 292.85 | -0.1 | 47.4445, 0.727333    | TOURS           | 47.444500 |   0.727333 | 108 | 8 |\n",
              "| 5 | 81415 | 2015-08-04T02:00:00+02:00 | 101370 | 220 | 1.5 | 297.55 |  0.2 | 3.640167, -54.028333 | MARIPASOULA     |  3.640167 | -54.028333 | 106 | 8 |\n",
              "| 6 |  7110 | 2015-08-04T02:00:00+02:00 | 101490 | 240 | 3.0 | 286.35 |  0.0 | 48.444167, -4.412    | BREST-GUIPAVAS  | 48.444167 |  -4.412000 |  94 | 8 |\n",
              "\n"
            ],
            "text/plain": [
              "  ID.OMM.station Date                      Pression.au.niveau.mer\n",
              "1  7790          2015-08-04T02:00:00+02:00 101570                \n",
              "2  7761          2015-08-04T02:00:00+02:00 101600                \n",
              "3  7020          2015-08-04T02:00:00+02:00 101390                \n",
              "4  7240          2015-08-04T02:00:00+02:00 101410                \n",
              "5 81415          2015-08-04T02:00:00+02:00 101370                \n",
              "6  7110          2015-08-04T02:00:00+02:00 101490                \n",
              "  Direction.du.vent.moyen.10.mn Vitesse.du.vent.moyen.10.mn Température\n",
              "1 260                           1.5                         294.85     \n",
              "2  70                           2.7                         295.15     \n",
              "3 240                           6.5                         288.85     \n",
              "4 270                           3.1                         292.85     \n",
              "5 220                           1.5                         297.55     \n",
              "6 240                           3.0                         286.35     \n",
              "  Précipitations.dans.la.dernière.heure Coordonnees          Nom            \n",
              "1  0.0                                  42.540667, 9.485167  BASTIA         \n",
              "2  0.0                                  41.918, 8.792667     AJACCIO        \n",
              "3  0.0                                  49.725167, -1.939833 PTE DE LA HAGUE\n",
              "4 -0.1                                  47.4445, 0.727333    TOURS          \n",
              "5  0.2                                  3.640167, -54.028333 MARIPASOULA    \n",
              "6  0.0                                  48.444167, -4.412    BREST-GUIPAVAS \n",
              "  Latitude  Longitude  Altitude mois_de_l_annee\n",
              "1 42.540667   9.485167  10      8              \n",
              "2 41.918000   8.792667   5      8              \n",
              "3 49.725167  -1.939833   6      8              \n",
              "4 47.444500   0.727333 108      8              \n",
              "5  3.640167 -54.028333 106      8              \n",
              "6 48.444167  -4.412000  94      8              "
            ]
          },
          "metadata": {},
          "output_type": "display_data"
        }
      ],
      "source": [
        "# Create final dataset by removing variables with high missing data percentages\n",
        "# Removing: Nebulosité.totale (58.12% missing) and Rafale.sur.les.10.dernières.minutes (21.43% missing)\n",
        "\n",
        "final_weather_data <- selected_weather_data[, !names(selected_weather_data) %in% \n",
        "                                           c(\"Nebulosité.totale\", \"Rafale.sur.les.10.dernières.minutes\")]\n",
        "\n",
        "# Display dimensions and first rows\n",
        "cat(\"Final dataset dimensions:\", dim(final_weather_data)[1], \"observations and\", dim(final_weather_data)[2], \"variables\\n\")\n",
        "head(final_weather_data)\n"
      ]
    },
    {
      "cell_type": "markdown",
      "metadata": {},
      "source": [
        "**Variables removed from the final dataset:**\n",
        "\n",
        "- `Nebulosité.totale` (Cloud cover) - 58.12% missing data\n",
        "- `Rafale.sur.les.10.dernières.minutes` (Gusts) - 21.43% missing data\n",
        "\n",
        "**Final dataset variables (17 variables):**\n",
        "\n",
        "| Number | Variable Name | Description |\n",
        "|--------|---------------|-------------|\n",
        "| 1 | `ID.OMM.station` | Station identifier |\n",
        "| 2 | `Date` | Observation date/time |\n",
        "| 3 | `Pression.au.niveau.mer` | Pressure (main reference) |\n",
        "| 4 | `Direction.du.vent.moyen.10.mn` | Wind direction |\n",
        "| 5 | `Vitesse.du.vent.moyen.10.mn` | Wind speed |\n",
        "| 6 | `Température` | Air temperature |\n",
        "| 7 | `Point.de.rosée` | Humidity via dew point |\n",
        "| 8 | `Humidité` | Relative humidity |\n",
        "| 9 | `Visibilité.horizontale` | Visibility |\n",
        "| 10 | `Temps.présent` | Observed weather |\n",
        "| 11 | `Précipitations.dans.la.dernière.heure` | Precipitation |\n",
        "| 12 | `Coordonnees` | Grouped coordinates |\n",
        "| 13 | `Nom` | Station name |\n",
        "| 14 | `Latitude` | Latitude |\n",
        "| 15 | `Longitude` | Longitude |\n",
        "| 16 | `Altitude` | Altitude |\n",
        "| 17 | `mois_de_l_annee` | Month (useful for seasonal grouping) |\n"
      ]
    },
    {
      "cell_type": "code",
      "execution_count": 24,
      "metadata": {
        "vscode": {
          "languageId": "r"
        }
      },
      "outputs": [
        {
          "name": "stdout",
          "output_type": "stream",
          "text": [
            "Final dataset missing data summary:\n",
            "                                                                   Variable\n",
            "Pression.au.niveau.mer                               Pression.au.niveau.mer\n",
            "Précipitations.dans.la.dernière.heure Précipitations.dans.la.dernière.heure\n",
            "Température                                                     Température\n",
            "Direction.du.vent.moyen.10.mn                 Direction.du.vent.moyen.10.mn\n",
            "Vitesse.du.vent.moyen.10.mn                     Vitesse.du.vent.moyen.10.mn\n",
            "ID.OMM.station                                               ID.OMM.station\n",
            "Date                                                                   Date\n",
            "Coordonnees                                                     Coordonnees\n",
            "Nom                                                                     Nom\n",
            "Latitude                                                           Latitude\n",
            "Longitude                                                         Longitude\n",
            "Altitude                                                           Altitude\n",
            "mois_de_l_annee                                             mois_de_l_annee\n",
            "                                      Missing_Count Missing_Percentage\n",
            "Pression.au.niveau.mer                        94370               5.49\n",
            "Précipitations.dans.la.dernière.heure         78388               4.56\n",
            "Température                                   22176               1.29\n",
            "Direction.du.vent.moyen.10.mn                 14843               0.86\n",
            "Vitesse.du.vent.moyen.10.mn                   14524               0.84\n",
            "ID.OMM.station                                    0               0.00\n",
            "Date                                              0               0.00\n",
            "Coordonnees                                       0               0.00\n",
            "Nom                                               0               0.00\n",
            "Latitude                                          0               0.00\n",
            "Longitude                                         0               0.00\n",
            "Altitude                                          0               0.00\n",
            "mois_de_l_annee                                   0               0.00\n"
          ]
        }
      ],
      "source": [
        "# Missing data analysis for the final dataset\n",
        "final_missing_data_summary <- data.frame(\n",
        "  Variable = colnames(final_weather_data),\n",
        "  Missing_Count = sapply(final_weather_data, function(x) sum(is.na(x))),\n",
        "  Missing_Percentage = round(sapply(final_weather_data, function(x) sum(is.na(x))/length(x)*100), 2)\n",
        ")\n",
        "\n",
        "# Trier par pourcentage de données manquantes (ordre décroissant)\n",
        "final_missing_data_summary <- final_missing_data_summary[order(final_missing_data_summary$Missing_Percentage, decreasing = TRUE), ]\n",
        "\n",
        "cat(\"Final dataset missing data summary:\\n\")\n",
        "print(final_missing_data_summary)\n"
      ]
    },
    {
      "cell_type": "markdown",
      "metadata": {},
      "source": [
        "### 6. CLEAN DATASET - REMOVING ROWS WITH MISSING VALUES\n",
        "\n",
        "Creation of a clean dataset by removing all rows that contain any missing values (NaN/NA).\n"
      ]
    },
    {
      "cell_type": "code",
      "execution_count": 25,
      "metadata": {
        "vscode": {
          "languageId": "r"
        }
      },
      "outputs": [
        {
          "name": "stdout",
          "output_type": "stream",
          "text": [
            "Original final dataset dimensions: 1719567 observations and 13 variables\n",
            "Number of rows with missing values: 168753 \n",
            "Percentage of rows with missing values: 9.81 %\n",
            "Clean dataset dimensions: 1550814 observations and 13 variables\n",
            "Rows removed: 168753 \n",
            "Data retention rate: 90.19 %\n"
          ]
        }
      ],
      "source": [
        "# Create clean dataset by removing rows with any missing values\n",
        "cat(\"Original final dataset dimensions:\", dim(final_weather_data)[1], \"observations and\", dim(final_weather_data)[2], \"variables\\n\")\n",
        "\n",
        "# Count rows with missing values before removal\n",
        "rows_with_na <- sum(!complete.cases(final_weather_data))\n",
        "cat(\"Number of rows with missing values:\", rows_with_na, \"\\n\")\n",
        "cat(\"Percentage of rows with missing values:\", round(rows_with_na/nrow(final_weather_data)*100, 2), \"%\\n\")\n",
        "\n",
        "# Remove rows with any missing values\n",
        "clean_weather_data <- final_weather_data[complete.cases(final_weather_data), ]\n",
        "\n",
        "# Reorganize the index\n",
        "rownames(clean_weather_data) <- NULL\n",
        "\n",
        "# Display new dimensions\n",
        "cat(\"Clean dataset dimensions:\", dim(clean_weather_data)[1], \"observations and\", dim(clean_weather_data)[2], \"variables\\n\")\n",
        "cat(\"Rows removed:\", nrow(final_weather_data) - nrow(clean_weather_data), \"\\n\")\n",
        "cat(\"Data retention rate:\", round(nrow(clean_weather_data)/nrow(final_weather_data)*100, 2), \"%\\n\")\n"
      ]
    },
    {
      "cell_type": "code",
      "execution_count": 26,
      "metadata": {
        "vscode": {
          "languageId": "r"
        }
      },
      "outputs": [
        {
          "data": {
            "text/plain": [
              " ID.OMM.station      Date           Pression.au.niveau.mer\n",
              " Min.   : 7005   Length:1550814     Min.   : 94520        \n",
              " 1st Qu.: 7190   Class :character   1st Qu.:101210        \n",
              " Median : 7558   Mode  :character   Median :101610        \n",
              " Mean   :24848                      Mean   :101627        \n",
              " 3rd Qu.:61972                      3rd Qu.:102100        \n",
              " Max.   :81415                      Max.   :104960        \n",
              " Direction.du.vent.moyen.10.mn Vitesse.du.vent.moyen.10.mn  Température   \n",
              " Min.   :  0.0                 Min.   : 0.000              Min.   :247.2  \n",
              " 1st Qu.: 90.0                 1st Qu.: 1.900              1st Qu.:282.4  \n",
              " Median :180.0                 Median : 3.400              Median :288.4  \n",
              " Mean   :176.7                 Mean   : 4.074              Mean   :289.0  \n",
              " 3rd Qu.:270.0                 3rd Qu.: 5.500              3rd Qu.:296.8  \n",
              " Max.   :360.0                 Max.   :47.200              Max.   :332.9  \n",
              " Précipitations.dans.la.dernière.heure Coordonnees            Nom           \n",
              " Min.   :-0.1000                       Length:1550814     Length:1550814    \n",
              " 1st Qu.: 0.0000                       Class :character   Class :character  \n",
              " Median : 0.0000                       Mode  :character   Mode  :character  \n",
              " Mean   : 0.1042                                                            \n",
              " 3rd Qu.: 0.0000                                                            \n",
              " Max.   :75.6000                                                            \n",
              "    Latitude        Longitude           Altitude   mois_de_l_annee \n",
              " Min.   :-49.35   Min.   :-62.8522   Min.   :  2   Min.   : 1.000  \n",
              " 1st Qu.: 17.90   1st Qu.: -1.6088   1st Qu.: 10   1st Qu.: 4.000  \n",
              " Median : 44.74   Median :  1.3967   Median : 55   Median : 7.000  \n",
              " Mean   : 32.81   Mean   : -0.4862   Mean   :110   Mean   : 6.531  \n",
              " 3rd Qu.: 48.07   3rd Qu.:  5.2160   3rd Qu.:150   3rd Qu.:10.000  \n",
              " Max.   : 50.57   Max.   : 77.5692   Max.   :712   Max.   :12.000  "
            ]
          },
          "metadata": {},
          "output_type": "display_data"
        }
      ],
      "source": [
        "# 7. DATA PRESENTATION - NUMERICAL AND GRAPHICAL SUMMARIES\n",
        "\n",
        "# Basic numerical summary\n",
        "summary(clean_weather_data)"
      ]
    },
    {
      "cell_type": "code",
      "execution_count": null,
      "metadata": {
        "vscode": {
          "languageId": "r"
        }
      },
      "outputs": [
        {
          "name": "stderr",
          "output_type": "stream",
          "text": [
            "\n",
            "Attachement du package : 'dplyr'\n",
            "\n",
            "\n",
            "Les objets suivants sont masqués depuis 'package:stats':\n",
            "\n",
            "    filter, lag\n",
            "\n",
            "\n",
            "Les objets suivants sont masqués depuis 'package:base':\n",
            "\n",
            "    intersect, setdiff, setequal, union\n",
            "\n",
            "\n"
          ]
        },
        {
          "name": "stdout",
          "output_type": "stream",
          "text": [
            "[1] \"Temperature Statistics:\"\n",
            "  mean_temp median_temp min_temp max_temp  sd_temp\n",
            "1  289.0342      288.45   247.25   332.85 8.673134\n"
          ]
        }
      ],
      "source": [
        "# Key statistics for numerical variables\n",
        "library(dplyr)\n",
        "\n",
        "# Temperature analysis\n",
        "temp_stats <- clean_weather_data %>%\n",
        "  summarise(\n",
        "    mean_temp = mean(Température, na.rm = TRUE),\n",
        "    median_temp = median(Température, na.rm = TRUE),\n",
        "    min_temp = min(Température, na.rm = TRUE),\n",
        "    max_temp = max(Température, na.rm = TRUE),\n",
        "    sd_temp = sd(Température, na.rm = TRUE)\n",
        "  )\n",
        "print(\"Temperature Statistics:\")\n",
        "print(temp_stats)\n"
      ]
    },
    {
      "cell_type": "code",
      "execution_count": 30,
      "metadata": {
        "vscode": {
          "languageId": "r"
        }
      },
      "outputs": [
        {
          "name": "stdout",
          "output_type": "stream",
          "text": [
            "[1] \"Pressure and Wind Statistics:\"\n",
            "  mean_pressure mean_wind_speed max_wind_speed\n",
            "1      101627.5        4.073789           47.2\n"
          ]
        }
      ],
      "source": [
        "# Pressure and wind statistics\n",
        "pressure_wind_stats <- clean_weather_data %>%\n",
        "  summarise(\n",
        "    mean_pressure = mean(Pression.au.niveau.mer, na.rm = TRUE),\n",
        "    mean_wind_speed = mean(Vitesse.du.vent.moyen.10.mn, na.rm = TRUE),\n",
        "    max_wind_speed = max(Vitesse.du.vent.moyen.10.mn, na.rm = TRUE),\n",
        "  )\n",
        "print(\"Pressure and Wind Statistics:\")\n",
        "print(pressure_wind_stats)\n"
      ]
    },
    {
      "cell_type": "code",
      "execution_count": 38,
      "metadata": {
        "vscode": {
          "languageId": "r"
        }
      },
      "outputs": [
        {
          "data": {
            "image/png": "[encoded data removed]",
            "text/plain": [
              "plot without title"
            ]
          },
          "metadata": {
            "image/png": {
              "height": 420,
              "width": 420
            }
          },
          "output_type": "display_data"
        }
      ],
      "source": [
        "# Graphical summaries - Temperature distribution\n",
        "library(ggplot2)\n",
        "\n",
        "ggplot(clean_weather_data, aes(x = Température)) +\n",
        "geom_histogram(bins = 50, fill = \"skyblue\", alpha = 0.7) +\n",
        "labs(title = \"Temperature Distribution\", \n",
        "     x = \"Temperature (K)\", \n",
        "     y = \"Frequency\") +\n",
        "theme_minimal()\n"
      ]
    },
    {
      "cell_type": "code",
      "execution_count": null,
      "metadata": {
        "vscode": {
          "languageId": "r"
        }
      },
      "outputs": [
        {
          "name": "stderr",
          "output_type": "stream",
          "text": [
            "\u001b[1m\u001b[22m`geom_smooth()` using formula = 'y ~ x'\n"
          ]
        },
        {
          "data": {
            "image/png": "[encoded data removed]",
            "text/plain": [
              "plot without title"
            ]
          },
          "metadata": {
            "image/png": {
              "height": 420,
              "width": 420
            }
          },
          "output_type": "display_data"
        }
      ],
      "source": [
        "# Pressure vs Temperature scatter plot\n",
        "ggplot(clean_weather_data, aes(x = Température, y = Pression.au.niveau.mer)) +\n",
        "  geom_point(alpha = 0.3, color = \"darkblue\") +\n",
        "  geom_smooth(method = \"lm\", color = \"red\") +\n",
        "  labs(title = \"Pressure vs Temperature Relationship\",\n",
        "       x = \"Temperature (°C)\",\n",
        "       y = \"Pressure (hPa)\") +\n",
        "  theme_minimal()\n"
      ]
    },
    {
      "cell_type": "code",
      "execution_count": null,
      "metadata": {
        "vscode": {
          "languageId": "r"
        }
      },
      "outputs": [
        {
          "data": {
            "image/png": "[encoded data removed]",
            "text/plain": [
              "plot without title"
            ]
          },
          "metadata": {
            "image/png": {
              "height": 420,
              "width": 420
            }
          },
          "output_type": "display_data"
        }
      ],
      "source": [
        "# Wind speed distribution\n",
        "ggplot(clean_weather_data, aes(x = Vitesse.du.vent.moyen.10.mn)) +\n",
        "  geom_histogram(bins = 40, fill = \"lightgreen\", alpha = 0.7) +\n",
        "  labs(title = \"Wind Speed Distribution\",\n",
        "       x = \"Wind Speed (m/s)\",\n",
        "       y = \"Frequency\") +\n",
        "  theme_minimal()\n"
      ]
    }
  ],
  "metadata": {
    "kernelspec": {
      "display_name": "R",
      "language": "R",
      "name": "ir"
    },
    "language_info": {
      "codemirror_mode": "r",
      "file_extension": ".r",
      "mimetype": "text/x-r-source",
      "name": "R",
      "pygments_lexer": "r",
      "version": "4.5.1"
    }
  },
  "nbformat": 4,
  "nbformat_minor": 2
}
